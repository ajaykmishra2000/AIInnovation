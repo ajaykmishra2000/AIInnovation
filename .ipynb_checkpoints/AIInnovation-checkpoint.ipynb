{
 "cells": [
  {
   "cell_type": "markdown",
   "metadata": {},
   "source": [
    "# AI innovation Challenge\n"
   ]
  },
  {
   "cell_type": "markdown",
   "metadata": {},
   "source": [
    "The hi-tech company sells service contract to customers to maintain  and support their products and their goal is 100% renewal of all the service contracts for the life of the products. The service contract renewals could potentially account for $X billion annually in recurring revenue"
   ]
  },
  {
   "cell_type": "markdown",
   "metadata": {},
   "source": [
    "# Challenge\n",
    "The challenge is to use the AI and Machine Learning to predict service renewals for the company? Which product instance will have their service contracts renewal next time? What are the primary drivers for service renewals?\n"
   ]
  },
  {
   "cell_type": "markdown",
   "metadata": {},
   "source": [
    "# Dataset\n",
    "\n",
    "•\tSampleData.tsv [10k rows of data]"
   ]
  },
  {
   "cell_type": "code",
   "execution_count": 276,
   "metadata": {},
   "outputs": [],
   "source": [
    "library(readr) ## read_tsv\n",
    "library(dplyr)\n",
    "library(caTools)\n",
    "library(caret)\n",
    "library(e1071)\n",
    "library(grid)\n",
    "library(gridExtra)\n",
    "library(rpart)"
   ]
  },
  {
   "cell_type": "code",
   "execution_count": 277,
   "metadata": {},
   "outputs": [],
   "source": [
    "#library(rpart)\n"
   ]
  },
  {
   "cell_type": "code",
   "execution_count": 278,
   "metadata": {},
   "outputs": [],
   "source": [
    "FileName <-\"./data/sample_set.tsv\""
   ]
  },
  {
   "cell_type": "code",
   "execution_count": 279,
   "metadata": {},
   "outputs": [
    {
     "data": {
      "text/html": [
       "'C:/Users/ajamishr/AIInnovation'"
      ],
      "text/latex": [
       "'C:/Users/ajamishr/AIInnovation'"
      ],
      "text/markdown": [
       "'C:/Users/ajamishr/AIInnovation'"
      ],
      "text/plain": [
       "[1] \"C:/Users/ajamishr/AIInnovation\""
      ]
     },
     "metadata": {},
     "output_type": "display_data"
    }
   ],
   "source": [
    "getwd()"
   ]
  },
  {
   "cell_type": "code",
   "execution_count": 280,
   "metadata": {},
   "outputs": [
    {
     "name": "stderr",
     "output_type": "stream",
     "text": [
      "Parsed with column specification:\n",
      "cols(\n",
      "  .default = col_character(),\n",
      "  ibsa_main_sample_set.innovation_challenge_key = col_integer(),\n",
      "  ibsa_main_sample_set.product_transaction_type = col_integer(),\n",
      "  ibsa_main_sample_set.contract_line_start_date = col_date(format = \"\"),\n",
      "  ibsa_main_sample_set.contract_line_end_date = col_date(format = \"\"),\n",
      "  ibsa_main_sample_set.contract_line_create_date = col_date(format = \"\"),\n",
      "  ibsa_main_sample_set.warranty_contract_line_end_date = col_date(format = \"\"),\n",
      "  ibsa_main_sample_set.contract_line_reaction_time_code = col_integer(),\n",
      "  ibsa_main_sample_set.previous_contract_line_end_date = col_date(format = \"\"),\n",
      "  ibsa_main_sample_set.sales_hierarchy_level = col_integer(),\n",
      "  ibsa_main_sample_set.service_sales_node_base_sales_hierarchy_level = col_integer(),\n",
      "  ibsa_main_sample_set.contract_line_net_usd_amount = col_integer(),\n",
      "  ibsa_main_sample_set.product_net_price = col_integer()\n",
      ")\n",
      "See spec(...) for full column specifications.\n",
      "Warning message in rbind(names(probs), probs_f):\n",
      "\"number of columns of result is not a multiple of vector length (arg 1)\"Warning message:\n",
      "\"19 parsing failures.\n",
      "row # A tibble: 5 x 5 col     row col                                                  expec~ actu~ file  expected   <int> <chr>                                                <chr>  <chr> <chr> actual 1  4155 ibsa_main_sample_set.warranty_contract_line_end_date \"date~ null  './d~ file 2  4161 ibsa_main_sample_set.warranty_contract_line_end_date \"date~ null  './d~ row 3  4166 ibsa_main_sample_set.warranty_contract_line_end_date \"date~ null  './d~ col 4  4170 ibsa_main_sample_set.warranty_contract_line_end_date \"date~ null  './d~ expected 5  4245 ibsa_main_sample_set.warranty_contract_line_end_date \"date~ null  './d~\n",
      "... ................. ... ............................................................................... ........ ............................................................................... ...... ............................................................................... .... ............................................................................... ... ............................................................................... ... ............................................................................... ........ ...............................................................................\n",
      "See problems(...) for more details.\n",
      "\""
     ]
    }
   ],
   "source": [
    "AIdataset <- read_tsv(FileName, na = \"N/A\")"
   ]
  },
  {
   "cell_type": "code",
   "execution_count": 281,
   "metadata": {},
   "outputs": [
    {
     "data": {
      "text/html": [
       "<table>\n",
       "<thead><tr><th scope=col>ibsa_main_sample_set.innovation_challenge_key</th><th scope=col>ibsa_main_sample_set.renewed_yorn</th><th scope=col>ibsa_main_sample_set.instance_id</th><th scope=col>ibsa_main_sample_set.contract_line_id</th><th scope=col>ibsa_main_sample_set.minor_line_yorn</th><th scope=col>ibsa_main_sample_set.major_line_instance_id</th><th scope=col>ibsa_main_sample_set.installation_date</th><th scope=col>ibsa_main_sample_set.product_sales_order_type</th><th scope=col>ibsa_main_sample_set.product_purchase_order_type</th><th scope=col>ibsa_main_sample_set.instance_status</th><th scope=col>...</th><th scope=col>ibsa_main_sample_set.service_distributor_base_theater_name</th><th scope=col>ibsa_main_sample_set.service_distributor_base_distributor_normalized_name</th><th scope=col>ibsa_main_sample_set.contract_line_net_usd_amount</th><th scope=col>ibsa_main_sample_set.product_net_price</th><th scope=col>ibsa_main_sample_set.sales_node_renewal_rate</th><th scope=col>ibsa_main_sample_set.customer_renewal_rate</th><th scope=col>ibsa_main_sample_set.partner_renewal_rate</th><th scope=col>ibsa_main_sample_set.product_renewal_rate</th><th scope=col>ibsa_main_sample_set.service_sales_node_installed_base_sales_node_renewal_rate</th><th scope=col>ibsa_main_sample_set.service_partner_installed_base_partner_renewal_rate</th></tr></thead>\n",
       "<tbody>\n",
       "\t<tr><td>6377987                                                         </td><td>N                                                               </td><td>CED2046F45038B444E46B39BDEFCE9CB7723BC3A18B144A7766C19F22EB30D2E</td><td>025B4B93C290BB30D46E3BCFD9A2438A83C8C6ECE78F5F3CB7A1FA85218AD24E</td><td>Y                                                               </td><td>000034B6E823EDAA1E83C89369FA913A5189353886BE3C87F0D3C989FD85E25B</td><td>null                                                            </td><td>Standard Cisco - US                                             </td><td>Resale                                                          </td><td>Latest-INSTALLED                                                </td><td>...                                                             </td><td>NA                                                              </td><td>A096DD969881554D12B5297CD9DF3CB0C6632E882AA28126C8FC410923A74EDF</td><td>0                                                               </td><td>0                                                               </td><td>64                                                              </td><td>NULL                                                            </td><td>53                                                              </td><td>NULL                                                            </td><td>64                                                              </td><td>53                                                              </td></tr>\n",
       "\t<tr><td>6019776                                                         </td><td>N                                                               </td><td>C32E506BCBC56AFBA803716D76E630A9141FB86ABF80BFB24B1CF967C87A2AA9</td><td>85F875950DAE9B6F3C835987B1CB594FD66FCFD26B9656FC6BC0B07236E6F09F</td><td>Y                                                               </td><td>000034B6E823EDAA1E83C89369FA913A5189353886BE3C87F0D3C989FD85E25B</td><td>null                                                            </td><td>Standard Cisco - US                                             </td><td>Resale                                                          </td><td>Latest-INSTALLED                                                </td><td>...                                                             </td><td>NA                                                              </td><td>A096DD969881554D12B5297CD9DF3CB0C6632E882AA28126C8FC410923A74EDF</td><td>0                                                               </td><td>0                                                               </td><td>64                                                              </td><td>NULL                                                            </td><td>53                                                              </td><td>NULL                                                            </td><td>64                                                              </td><td>53                                                              </td></tr>\n",
       "\t<tr><td> 380293                                                         </td><td>N                                                               </td><td>0C57CB6B18F10E9710D1FD08C579732E6D8497BB11037AF3FEA027AAC4725923</td><td>FDDE9B6C347CD673AA030233B2E77E47ADE969CA7A66EFB4BAABDE04FAA4026C</td><td>Y                                                               </td><td>000034B6E823EDAA1E83C89369FA913A5189353886BE3C87F0D3C989FD85E25B</td><td>null                                                            </td><td>Standard Cisco - US                                             </td><td>Resale                                                          </td><td>Latest-INSTALLED                                                </td><td>...                                                             </td><td>NA                                                              </td><td>A096DD969881554D12B5297CD9DF3CB0C6632E882AA28126C8FC410923A74EDF</td><td>0                                                               </td><td>0                                                               </td><td>64                                                              </td><td>NULL                                                            </td><td>53                                                              </td><td>NULL                                                            </td><td>64                                                              </td><td>53                                                              </td></tr>\n",
       "\t<tr><td>4366777                                                         </td><td>N                                                               </td><td>8D9CEFB3C70524AF2FD2B9543FC0289766B4298366BB816109C86C1EE3A11862</td><td>EBE5DDA92260B430175EE4B240790D34D0A8D15097B9A1DC7BA6CC841853C114</td><td>Y                                                               </td><td>000034B6E823EDAA1E83C89369FA913A5189353886BE3C87F0D3C989FD85E25B</td><td>null                                                            </td><td>Standard Cisco - US                                             </td><td>Resale                                                          </td><td>Latest-INSTALLED                                                </td><td>...                                                             </td><td>NA                                                              </td><td>A096DD969881554D12B5297CD9DF3CB0C6632E882AA28126C8FC410923A74EDF</td><td>0                                                               </td><td>0                                                               </td><td>64                                                              </td><td>NULL                                                            </td><td>53                                                              </td><td>NULL                                                            </td><td>64                                                              </td><td>53                                                              </td></tr>\n",
       "\t<tr><td>7840051                                                         </td><td>N                                                               </td><td>FE1BD8A298629EC753E9BD185CA2793C07188CEF05F4B764FA943EFBC32E6460</td><td>487471F424BE75F4E504859B7686E4BE23F05252B79A6AC0CD4F51B38AC442F8</td><td>Y                                                               </td><td>000034B6E823EDAA1E83C89369FA913A5189353886BE3C87F0D3C989FD85E25B</td><td>null                                                            </td><td>Standard Cisco - US                                             </td><td>Resale                                                          </td><td>Latest-INSTALLED                                                </td><td>...                                                             </td><td>NA                                                              </td><td>A096DD969881554D12B5297CD9DF3CB0C6632E882AA28126C8FC410923A74EDF</td><td>0                                                               </td><td>0                                                               </td><td>64                                                              </td><td>NULL                                                            </td><td>53                                                              </td><td>NULL                                                            </td><td>64                                                              </td><td>53                                                              </td></tr>\n",
       "\t<tr><td>7562698                                                         </td><td>N                                                               </td><td>F525DC7429D1EC9EC3BD1E68C014B8354E58B9DD670A9ED413490FA6EC711C6E</td><td>70C31B41DE3BAE9220A9FB103DD01AA761B8FC91131771A6EAF9D6DE670A8CFE</td><td>Y                                                               </td><td>000034B6E823EDAA1E83C89369FA913A5189353886BE3C87F0D3C989FD85E25B</td><td>null                                                            </td><td>Standard Cisco - US                                             </td><td>Resale                                                          </td><td>Latest-INSTALLED                                                </td><td>...                                                             </td><td>NA                                                              </td><td>A096DD969881554D12B5297CD9DF3CB0C6632E882AA28126C8FC410923A74EDF</td><td>0                                                               </td><td>0                                                               </td><td>64                                                              </td><td>NULL                                                            </td><td>53                                                              </td><td>NULL                                                            </td><td>64                                                              </td><td>53                                                              </td></tr>\n",
       "</tbody>\n",
       "</table>\n"
      ],
      "text/latex": [
       "\\begin{tabular}{r|lllllllllllllllllllllllllllllllllllllllllllllllllllllllllllllllllllllllllllllllllllllllllllllllllllllllllllllllllllllllllllllllllllllllllllllllllllllllllllllllllllllllllllllllllllllllllllllllllllllllllllllllllllllllllllllllllllllllllllll}\n",
       " ibsa\\_main\\_sample\\_set.innovation\\_challenge\\_key & ibsa\\_main\\_sample\\_set.renewed\\_yorn & ibsa\\_main\\_sample\\_set.instance\\_id & ibsa\\_main\\_sample\\_set.contract\\_line\\_id & ibsa\\_main\\_sample\\_set.minor\\_line\\_yorn & ibsa\\_main\\_sample\\_set.major\\_line\\_instance\\_id & ibsa\\_main\\_sample\\_set.installation\\_date & ibsa\\_main\\_sample\\_set.product\\_sales\\_order\\_type & ibsa\\_main\\_sample\\_set.product\\_purchase\\_order\\_type & ibsa\\_main\\_sample\\_set.instance\\_status & ... & ibsa\\_main\\_sample\\_set.service\\_distributor\\_base\\_theater\\_name & ibsa\\_main\\_sample\\_set.service\\_distributor\\_base\\_distributor\\_normalized\\_name & ibsa\\_main\\_sample\\_set.contract\\_line\\_net\\_usd\\_amount & ibsa\\_main\\_sample\\_set.product\\_net\\_price & ibsa\\_main\\_sample\\_set.sales\\_node\\_renewal\\_rate & ibsa\\_main\\_sample\\_set.customer\\_renewal\\_rate & ibsa\\_main\\_sample\\_set.partner\\_renewal\\_rate & ibsa\\_main\\_sample\\_set.product\\_renewal\\_rate & ibsa\\_main\\_sample\\_set.service\\_sales\\_node\\_installed\\_base\\_sales\\_node\\_renewal\\_rate & ibsa\\_main\\_sample\\_set.service\\_partner\\_installed\\_base\\_partner\\_renewal\\_rate\\\\\n",
       "\\hline\n",
       "\t 6377987                                                          & N                                                                & CED2046F45038B444E46B39BDEFCE9CB7723BC3A18B144A7766C19F22EB30D2E & 025B4B93C290BB30D46E3BCFD9A2438A83C8C6ECE78F5F3CB7A1FA85218AD24E & Y                                                                & 000034B6E823EDAA1E83C89369FA913A5189353886BE3C87F0D3C989FD85E25B & null                                                             & Standard Cisco - US                                              & Resale                                                           & Latest-INSTALLED                                                 & ...                                                              & NA                                                               & A096DD969881554D12B5297CD9DF3CB0C6632E882AA28126C8FC410923A74EDF & 0                                                                & 0                                                                & 64                                                               & NULL                                                             & 53                                                               & NULL                                                             & 64                                                               & 53                                                              \\\\\n",
       "\t 6019776                                                          & N                                                                & C32E506BCBC56AFBA803716D76E630A9141FB86ABF80BFB24B1CF967C87A2AA9 & 85F875950DAE9B6F3C835987B1CB594FD66FCFD26B9656FC6BC0B07236E6F09F & Y                                                                & 000034B6E823EDAA1E83C89369FA913A5189353886BE3C87F0D3C989FD85E25B & null                                                             & Standard Cisco - US                                              & Resale                                                           & Latest-INSTALLED                                                 & ...                                                              & NA                                                               & A096DD969881554D12B5297CD9DF3CB0C6632E882AA28126C8FC410923A74EDF & 0                                                                & 0                                                                & 64                                                               & NULL                                                             & 53                                                               & NULL                                                             & 64                                                               & 53                                                              \\\\\n",
       "\t  380293                                                          & N                                                                & 0C57CB6B18F10E9710D1FD08C579732E6D8497BB11037AF3FEA027AAC4725923 & FDDE9B6C347CD673AA030233B2E77E47ADE969CA7A66EFB4BAABDE04FAA4026C & Y                                                                & 000034B6E823EDAA1E83C89369FA913A5189353886BE3C87F0D3C989FD85E25B & null                                                             & Standard Cisco - US                                              & Resale                                                           & Latest-INSTALLED                                                 & ...                                                              & NA                                                               & A096DD969881554D12B5297CD9DF3CB0C6632E882AA28126C8FC410923A74EDF & 0                                                                & 0                                                                & 64                                                               & NULL                                                             & 53                                                               & NULL                                                             & 64                                                               & 53                                                              \\\\\n",
       "\t 4366777                                                          & N                                                                & 8D9CEFB3C70524AF2FD2B9543FC0289766B4298366BB816109C86C1EE3A11862 & EBE5DDA92260B430175EE4B240790D34D0A8D15097B9A1DC7BA6CC841853C114 & Y                                                                & 000034B6E823EDAA1E83C89369FA913A5189353886BE3C87F0D3C989FD85E25B & null                                                             & Standard Cisco - US                                              & Resale                                                           & Latest-INSTALLED                                                 & ...                                                              & NA                                                               & A096DD969881554D12B5297CD9DF3CB0C6632E882AA28126C8FC410923A74EDF & 0                                                                & 0                                                                & 64                                                               & NULL                                                             & 53                                                               & NULL                                                             & 64                                                               & 53                                                              \\\\\n",
       "\t 7840051                                                          & N                                                                & FE1BD8A298629EC753E9BD185CA2793C07188CEF05F4B764FA943EFBC32E6460 & 487471F424BE75F4E504859B7686E4BE23F05252B79A6AC0CD4F51B38AC442F8 & Y                                                                & 000034B6E823EDAA1E83C89369FA913A5189353886BE3C87F0D3C989FD85E25B & null                                                             & Standard Cisco - US                                              & Resale                                                           & Latest-INSTALLED                                                 & ...                                                              & NA                                                               & A096DD969881554D12B5297CD9DF3CB0C6632E882AA28126C8FC410923A74EDF & 0                                                                & 0                                                                & 64                                                               & NULL                                                             & 53                                                               & NULL                                                             & 64                                                               & 53                                                              \\\\\n",
       "\t 7562698                                                          & N                                                                & F525DC7429D1EC9EC3BD1E68C014B8354E58B9DD670A9ED413490FA6EC711C6E & 70C31B41DE3BAE9220A9FB103DD01AA761B8FC91131771A6EAF9D6DE670A8CFE & Y                                                                & 000034B6E823EDAA1E83C89369FA913A5189353886BE3C87F0D3C989FD85E25B & null                                                             & Standard Cisco - US                                              & Resale                                                           & Latest-INSTALLED                                                 & ...                                                              & NA                                                               & A096DD969881554D12B5297CD9DF3CB0C6632E882AA28126C8FC410923A74EDF & 0                                                                & 0                                                                & 64                                                               & NULL                                                             & 53                                                               & NULL                                                             & 64                                                               & 53                                                              \\\\\n",
       "\\end{tabular}\n"
      ],
      "text/markdown": [
       "\n",
       "ibsa_main_sample_set.innovation_challenge_key | ibsa_main_sample_set.renewed_yorn | ibsa_main_sample_set.instance_id | ibsa_main_sample_set.contract_line_id | ibsa_main_sample_set.minor_line_yorn | ibsa_main_sample_set.major_line_instance_id | ibsa_main_sample_set.installation_date | ibsa_main_sample_set.product_sales_order_type | ibsa_main_sample_set.product_purchase_order_type | ibsa_main_sample_set.instance_status | ... | ibsa_main_sample_set.service_distributor_base_theater_name | ibsa_main_sample_set.service_distributor_base_distributor_normalized_name | ibsa_main_sample_set.contract_line_net_usd_amount | ibsa_main_sample_set.product_net_price | ibsa_main_sample_set.sales_node_renewal_rate | ibsa_main_sample_set.customer_renewal_rate | ibsa_main_sample_set.partner_renewal_rate | ibsa_main_sample_set.product_renewal_rate | ibsa_main_sample_set.service_sales_node_installed_base_sales_node_renewal_rate | ibsa_main_sample_set.service_partner_installed_base_partner_renewal_rate | \n",
       "|---|---|---|---|---|---|\n",
       "| 6377987                                                          | N                                                                | CED2046F45038B444E46B39BDEFCE9CB7723BC3A18B144A7766C19F22EB30D2E | 025B4B93C290BB30D46E3BCFD9A2438A83C8C6ECE78F5F3CB7A1FA85218AD24E | Y                                                                | 000034B6E823EDAA1E83C89369FA913A5189353886BE3C87F0D3C989FD85E25B | null                                                             | Standard Cisco - US                                              | Resale                                                           | Latest-INSTALLED                                                 | ...                                                              | NA                                                               | A096DD969881554D12B5297CD9DF3CB0C6632E882AA28126C8FC410923A74EDF | 0                                                                | 0                                                                | 64                                                               | NULL                                                             | 53                                                               | NULL                                                             | 64                                                               | 53                                                               | \n",
       "| 6019776                                                          | N                                                                | C32E506BCBC56AFBA803716D76E630A9141FB86ABF80BFB24B1CF967C87A2AA9 | 85F875950DAE9B6F3C835987B1CB594FD66FCFD26B9656FC6BC0B07236E6F09F | Y                                                                | 000034B6E823EDAA1E83C89369FA913A5189353886BE3C87F0D3C989FD85E25B | null                                                             | Standard Cisco - US                                              | Resale                                                           | Latest-INSTALLED                                                 | ...                                                              | NA                                                               | A096DD969881554D12B5297CD9DF3CB0C6632E882AA28126C8FC410923A74EDF | 0                                                                | 0                                                                | 64                                                               | NULL                                                             | 53                                                               | NULL                                                             | 64                                                               | 53                                                               | \n",
       "|  380293                                                          | N                                                                | 0C57CB6B18F10E9710D1FD08C579732E6D8497BB11037AF3FEA027AAC4725923 | FDDE9B6C347CD673AA030233B2E77E47ADE969CA7A66EFB4BAABDE04FAA4026C | Y                                                                | 000034B6E823EDAA1E83C89369FA913A5189353886BE3C87F0D3C989FD85E25B | null                                                             | Standard Cisco - US                                              | Resale                                                           | Latest-INSTALLED                                                 | ...                                                              | NA                                                               | A096DD969881554D12B5297CD9DF3CB0C6632E882AA28126C8FC410923A74EDF | 0                                                                | 0                                                                | 64                                                               | NULL                                                             | 53                                                               | NULL                                                             | 64                                                               | 53                                                               | \n",
       "| 4366777                                                          | N                                                                | 8D9CEFB3C70524AF2FD2B9543FC0289766B4298366BB816109C86C1EE3A11862 | EBE5DDA92260B430175EE4B240790D34D0A8D15097B9A1DC7BA6CC841853C114 | Y                                                                | 000034B6E823EDAA1E83C89369FA913A5189353886BE3C87F0D3C989FD85E25B | null                                                             | Standard Cisco - US                                              | Resale                                                           | Latest-INSTALLED                                                 | ...                                                              | NA                                                               | A096DD969881554D12B5297CD9DF3CB0C6632E882AA28126C8FC410923A74EDF | 0                                                                | 0                                                                | 64                                                               | NULL                                                             | 53                                                               | NULL                                                             | 64                                                               | 53                                                               | \n",
       "| 7840051                                                          | N                                                                | FE1BD8A298629EC753E9BD185CA2793C07188CEF05F4B764FA943EFBC32E6460 | 487471F424BE75F4E504859B7686E4BE23F05252B79A6AC0CD4F51B38AC442F8 | Y                                                                | 000034B6E823EDAA1E83C89369FA913A5189353886BE3C87F0D3C989FD85E25B | null                                                             | Standard Cisco - US                                              | Resale                                                           | Latest-INSTALLED                                                 | ...                                                              | NA                                                               | A096DD969881554D12B5297CD9DF3CB0C6632E882AA28126C8FC410923A74EDF | 0                                                                | 0                                                                | 64                                                               | NULL                                                             | 53                                                               | NULL                                                             | 64                                                               | 53                                                               | \n",
       "| 7562698                                                          | N                                                                | F525DC7429D1EC9EC3BD1E68C014B8354E58B9DD670A9ED413490FA6EC711C6E | 70C31B41DE3BAE9220A9FB103DD01AA761B8FC91131771A6EAF9D6DE670A8CFE | Y                                                                | 000034B6E823EDAA1E83C89369FA913A5189353886BE3C87F0D3C989FD85E25B | null                                                             | Standard Cisco - US                                              | Resale                                                           | Latest-INSTALLED                                                 | ...                                                              | NA                                                               | A096DD969881554D12B5297CD9DF3CB0C6632E882AA28126C8FC410923A74EDF | 0                                                                | 0                                                                | 64                                                               | NULL                                                             | 53                                                               | NULL                                                             | 64                                                               | 53                                                               | \n",
       "\n",
       "\n"
      ],
      "text/plain": [
       "  ibsa_main_sample_set.innovation_challenge_key\n",
       "1 6377987                                      \n",
       "2 6019776                                      \n",
       "3  380293                                      \n",
       "4 4366777                                      \n",
       "5 7840051                                      \n",
       "6 7562698                                      \n",
       "  ibsa_main_sample_set.renewed_yorn\n",
       "1 N                                \n",
       "2 N                                \n",
       "3 N                                \n",
       "4 N                                \n",
       "5 N                                \n",
       "6 N                                \n",
       "  ibsa_main_sample_set.instance_id                                \n",
       "1 CED2046F45038B444E46B39BDEFCE9CB7723BC3A18B144A7766C19F22EB30D2E\n",
       "2 C32E506BCBC56AFBA803716D76E630A9141FB86ABF80BFB24B1CF967C87A2AA9\n",
       "3 0C57CB6B18F10E9710D1FD08C579732E6D8497BB11037AF3FEA027AAC4725923\n",
       "4 8D9CEFB3C70524AF2FD2B9543FC0289766B4298366BB816109C86C1EE3A11862\n",
       "5 FE1BD8A298629EC753E9BD185CA2793C07188CEF05F4B764FA943EFBC32E6460\n",
       "6 F525DC7429D1EC9EC3BD1E68C014B8354E58B9DD670A9ED413490FA6EC711C6E\n",
       "  ibsa_main_sample_set.contract_line_id                           \n",
       "1 025B4B93C290BB30D46E3BCFD9A2438A83C8C6ECE78F5F3CB7A1FA85218AD24E\n",
       "2 85F875950DAE9B6F3C835987B1CB594FD66FCFD26B9656FC6BC0B07236E6F09F\n",
       "3 FDDE9B6C347CD673AA030233B2E77E47ADE969CA7A66EFB4BAABDE04FAA4026C\n",
       "4 EBE5DDA92260B430175EE4B240790D34D0A8D15097B9A1DC7BA6CC841853C114\n",
       "5 487471F424BE75F4E504859B7686E4BE23F05252B79A6AC0CD4F51B38AC442F8\n",
       "6 70C31B41DE3BAE9220A9FB103DD01AA761B8FC91131771A6EAF9D6DE670A8CFE\n",
       "  ibsa_main_sample_set.minor_line_yorn\n",
       "1 Y                                   \n",
       "2 Y                                   \n",
       "3 Y                                   \n",
       "4 Y                                   \n",
       "5 Y                                   \n",
       "6 Y                                   \n",
       "  ibsa_main_sample_set.major_line_instance_id                     \n",
       "1 000034B6E823EDAA1E83C89369FA913A5189353886BE3C87F0D3C989FD85E25B\n",
       "2 000034B6E823EDAA1E83C89369FA913A5189353886BE3C87F0D3C989FD85E25B\n",
       "3 000034B6E823EDAA1E83C89369FA913A5189353886BE3C87F0D3C989FD85E25B\n",
       "4 000034B6E823EDAA1E83C89369FA913A5189353886BE3C87F0D3C989FD85E25B\n",
       "5 000034B6E823EDAA1E83C89369FA913A5189353886BE3C87F0D3C989FD85E25B\n",
       "6 000034B6E823EDAA1E83C89369FA913A5189353886BE3C87F0D3C989FD85E25B\n",
       "  ibsa_main_sample_set.installation_date\n",
       "1 null                                  \n",
       "2 null                                  \n",
       "3 null                                  \n",
       "4 null                                  \n",
       "5 null                                  \n",
       "6 null                                  \n",
       "  ibsa_main_sample_set.product_sales_order_type\n",
       "1 Standard Cisco - US                          \n",
       "2 Standard Cisco - US                          \n",
       "3 Standard Cisco - US                          \n",
       "4 Standard Cisco - US                          \n",
       "5 Standard Cisco - US                          \n",
       "6 Standard Cisco - US                          \n",
       "  ibsa_main_sample_set.product_purchase_order_type\n",
       "1 Resale                                          \n",
       "2 Resale                                          \n",
       "3 Resale                                          \n",
       "4 Resale                                          \n",
       "5 Resale                                          \n",
       "6 Resale                                          \n",
       "  ibsa_main_sample_set.instance_status ...\n",
       "1 Latest-INSTALLED                     ...\n",
       "2 Latest-INSTALLED                     ...\n",
       "3 Latest-INSTALLED                     ...\n",
       "4 Latest-INSTALLED                     ...\n",
       "5 Latest-INSTALLED                     ...\n",
       "6 Latest-INSTALLED                     ...\n",
       "  ibsa_main_sample_set.service_distributor_base_theater_name\n",
       "1 NA                                                        \n",
       "2 NA                                                        \n",
       "3 NA                                                        \n",
       "4 NA                                                        \n",
       "5 NA                                                        \n",
       "6 NA                                                        \n",
       "  ibsa_main_sample_set.service_distributor_base_distributor_normalized_name\n",
       "1 A096DD969881554D12B5297CD9DF3CB0C6632E882AA28126C8FC410923A74EDF         \n",
       "2 A096DD969881554D12B5297CD9DF3CB0C6632E882AA28126C8FC410923A74EDF         \n",
       "3 A096DD969881554D12B5297CD9DF3CB0C6632E882AA28126C8FC410923A74EDF         \n",
       "4 A096DD969881554D12B5297CD9DF3CB0C6632E882AA28126C8FC410923A74EDF         \n",
       "5 A096DD969881554D12B5297CD9DF3CB0C6632E882AA28126C8FC410923A74EDF         \n",
       "6 A096DD969881554D12B5297CD9DF3CB0C6632E882AA28126C8FC410923A74EDF         \n",
       "  ibsa_main_sample_set.contract_line_net_usd_amount\n",
       "1 0                                                \n",
       "2 0                                                \n",
       "3 0                                                \n",
       "4 0                                                \n",
       "5 0                                                \n",
       "6 0                                                \n",
       "  ibsa_main_sample_set.product_net_price\n",
       "1 0                                     \n",
       "2 0                                     \n",
       "3 0                                     \n",
       "4 0                                     \n",
       "5 0                                     \n",
       "6 0                                     \n",
       "  ibsa_main_sample_set.sales_node_renewal_rate\n",
       "1 64                                          \n",
       "2 64                                          \n",
       "3 64                                          \n",
       "4 64                                          \n",
       "5 64                                          \n",
       "6 64                                          \n",
       "  ibsa_main_sample_set.customer_renewal_rate\n",
       "1 NULL                                      \n",
       "2 NULL                                      \n",
       "3 NULL                                      \n",
       "4 NULL                                      \n",
       "5 NULL                                      \n",
       "6 NULL                                      \n",
       "  ibsa_main_sample_set.partner_renewal_rate\n",
       "1 53                                       \n",
       "2 53                                       \n",
       "3 53                                       \n",
       "4 53                                       \n",
       "5 53                                       \n",
       "6 53                                       \n",
       "  ibsa_main_sample_set.product_renewal_rate\n",
       "1 NULL                                     \n",
       "2 NULL                                     \n",
       "3 NULL                                     \n",
       "4 NULL                                     \n",
       "5 NULL                                     \n",
       "6 NULL                                     \n",
       "  ibsa_main_sample_set.service_sales_node_installed_base_sales_node_renewal_rate\n",
       "1 64                                                                            \n",
       "2 64                                                                            \n",
       "3 64                                                                            \n",
       "4 64                                                                            \n",
       "5 64                                                                            \n",
       "6 64                                                                            \n",
       "  ibsa_main_sample_set.service_partner_installed_base_partner_renewal_rate\n",
       "1 53                                                                      \n",
       "2 53                                                                      \n",
       "3 53                                                                      \n",
       "4 53                                                                      \n",
       "5 53                                                                      \n",
       "6 53                                                                      "
      ]
     },
     "metadata": {},
     "output_type": "display_data"
    }
   ],
   "source": [
    "head(AIdataset)"
   ]
  },
  {
   "cell_type": "code",
   "execution_count": 282,
   "metadata": {},
   "outputs": [],
   "source": [
    "# rename column names by removing the prefix\n",
    "AIdataset <- AIdataset %>% rename_at(.vars = vars(starts_with(\"ibsa_main_sample_set.\")),   ########################### INPUT ###########################\n",
    "                                      .funs = funs(sub(\"ibsa_main_sample_set[.]\",\"\",.)))\n"
   ]
  },
  {
   "cell_type": "code",
   "execution_count": 283,
   "metadata": {},
   "outputs": [
    {
     "data": {
      "text/html": [
       "<table>\n",
       "<thead><tr><th scope=col>innovation_challenge_key</th><th scope=col>renewed_yorn</th><th scope=col>instance_id</th><th scope=col>contract_line_id</th><th scope=col>minor_line_yorn</th><th scope=col>major_line_instance_id</th><th scope=col>installation_date</th><th scope=col>product_sales_order_type</th><th scope=col>product_purchase_order_type</th><th scope=col>instance_status</th><th scope=col>...</th><th scope=col>service_distributor_base_theater_name</th><th scope=col>service_distributor_base_distributor_normalized_name</th><th scope=col>contract_line_net_usd_amount</th><th scope=col>product_net_price</th><th scope=col>sales_node_renewal_rate</th><th scope=col>customer_renewal_rate</th><th scope=col>partner_renewal_rate</th><th scope=col>product_renewal_rate</th><th scope=col>service_sales_node_installed_base_sales_node_renewal_rate</th><th scope=col>service_partner_installed_base_partner_renewal_rate</th></tr></thead>\n",
       "<tbody>\n",
       "\t<tr><td>6377987                                                         </td><td>N                                                               </td><td>CED2046F45038B444E46B39BDEFCE9CB7723BC3A18B144A7766C19F22EB30D2E</td><td>025B4B93C290BB30D46E3BCFD9A2438A83C8C6ECE78F5F3CB7A1FA85218AD24E</td><td>Y                                                               </td><td>000034B6E823EDAA1E83C89369FA913A5189353886BE3C87F0D3C989FD85E25B</td><td>null                                                            </td><td>Standard Cisco - US                                             </td><td>Resale                                                          </td><td>Latest-INSTALLED                                                </td><td>...                                                             </td><td>NA                                                              </td><td>A096DD969881554D12B5297CD9DF3CB0C6632E882AA28126C8FC410923A74EDF</td><td>0                                                               </td><td>0                                                               </td><td>64                                                              </td><td>NULL                                                            </td><td>53                                                              </td><td>NULL                                                            </td><td>64                                                              </td><td>53                                                              </td></tr>\n",
       "\t<tr><td>6019776                                                         </td><td>N                                                               </td><td>C32E506BCBC56AFBA803716D76E630A9141FB86ABF80BFB24B1CF967C87A2AA9</td><td>85F875950DAE9B6F3C835987B1CB594FD66FCFD26B9656FC6BC0B07236E6F09F</td><td>Y                                                               </td><td>000034B6E823EDAA1E83C89369FA913A5189353886BE3C87F0D3C989FD85E25B</td><td>null                                                            </td><td>Standard Cisco - US                                             </td><td>Resale                                                          </td><td>Latest-INSTALLED                                                </td><td>...                                                             </td><td>NA                                                              </td><td>A096DD969881554D12B5297CD9DF3CB0C6632E882AA28126C8FC410923A74EDF</td><td>0                                                               </td><td>0                                                               </td><td>64                                                              </td><td>NULL                                                            </td><td>53                                                              </td><td>NULL                                                            </td><td>64                                                              </td><td>53                                                              </td></tr>\n",
       "\t<tr><td> 380293                                                         </td><td>N                                                               </td><td>0C57CB6B18F10E9710D1FD08C579732E6D8497BB11037AF3FEA027AAC4725923</td><td>FDDE9B6C347CD673AA030233B2E77E47ADE969CA7A66EFB4BAABDE04FAA4026C</td><td>Y                                                               </td><td>000034B6E823EDAA1E83C89369FA913A5189353886BE3C87F0D3C989FD85E25B</td><td>null                                                            </td><td>Standard Cisco - US                                             </td><td>Resale                                                          </td><td>Latest-INSTALLED                                                </td><td>...                                                             </td><td>NA                                                              </td><td>A096DD969881554D12B5297CD9DF3CB0C6632E882AA28126C8FC410923A74EDF</td><td>0                                                               </td><td>0                                                               </td><td>64                                                              </td><td>NULL                                                            </td><td>53                                                              </td><td>NULL                                                            </td><td>64                                                              </td><td>53                                                              </td></tr>\n",
       "\t<tr><td>4366777                                                         </td><td>N                                                               </td><td>8D9CEFB3C70524AF2FD2B9543FC0289766B4298366BB816109C86C1EE3A11862</td><td>EBE5DDA92260B430175EE4B240790D34D0A8D15097B9A1DC7BA6CC841853C114</td><td>Y                                                               </td><td>000034B6E823EDAA1E83C89369FA913A5189353886BE3C87F0D3C989FD85E25B</td><td>null                                                            </td><td>Standard Cisco - US                                             </td><td>Resale                                                          </td><td>Latest-INSTALLED                                                </td><td>...                                                             </td><td>NA                                                              </td><td>A096DD969881554D12B5297CD9DF3CB0C6632E882AA28126C8FC410923A74EDF</td><td>0                                                               </td><td>0                                                               </td><td>64                                                              </td><td>NULL                                                            </td><td>53                                                              </td><td>NULL                                                            </td><td>64                                                              </td><td>53                                                              </td></tr>\n",
       "\t<tr><td>7840051                                                         </td><td>N                                                               </td><td>FE1BD8A298629EC753E9BD185CA2793C07188CEF05F4B764FA943EFBC32E6460</td><td>487471F424BE75F4E504859B7686E4BE23F05252B79A6AC0CD4F51B38AC442F8</td><td>Y                                                               </td><td>000034B6E823EDAA1E83C89369FA913A5189353886BE3C87F0D3C989FD85E25B</td><td>null                                                            </td><td>Standard Cisco - US                                             </td><td>Resale                                                          </td><td>Latest-INSTALLED                                                </td><td>...                                                             </td><td>NA                                                              </td><td>A096DD969881554D12B5297CD9DF3CB0C6632E882AA28126C8FC410923A74EDF</td><td>0                                                               </td><td>0                                                               </td><td>64                                                              </td><td>NULL                                                            </td><td>53                                                              </td><td>NULL                                                            </td><td>64                                                              </td><td>53                                                              </td></tr>\n",
       "\t<tr><td>7562698                                                         </td><td>N                                                               </td><td>F525DC7429D1EC9EC3BD1E68C014B8354E58B9DD670A9ED413490FA6EC711C6E</td><td>70C31B41DE3BAE9220A9FB103DD01AA761B8FC91131771A6EAF9D6DE670A8CFE</td><td>Y                                                               </td><td>000034B6E823EDAA1E83C89369FA913A5189353886BE3C87F0D3C989FD85E25B</td><td>null                                                            </td><td>Standard Cisco - US                                             </td><td>Resale                                                          </td><td>Latest-INSTALLED                                                </td><td>...                                                             </td><td>NA                                                              </td><td>A096DD969881554D12B5297CD9DF3CB0C6632E882AA28126C8FC410923A74EDF</td><td>0                                                               </td><td>0                                                               </td><td>64                                                              </td><td>NULL                                                            </td><td>53                                                              </td><td>NULL                                                            </td><td>64                                                              </td><td>53                                                              </td></tr>\n",
       "</tbody>\n",
       "</table>\n"
      ],
      "text/latex": [
       "\\begin{tabular}{r|lllllllllllllllllllllllllllllllllllllllllllllllllllllllllllllllllllllllllllllllllllllllllllllllllllllllllllllllllllllllllllllllllllllllllllllllllllllllllllllllllllllllllllllllllllllllllllllllllllllllllllllllllllllllllllllllllllllllllllll}\n",
       " innovation\\_challenge\\_key & renewed\\_yorn & instance\\_id & contract\\_line\\_id & minor\\_line\\_yorn & major\\_line\\_instance\\_id & installation\\_date & product\\_sales\\_order\\_type & product\\_purchase\\_order\\_type & instance\\_status & ... & service\\_distributor\\_base\\_theater\\_name & service\\_distributor\\_base\\_distributor\\_normalized\\_name & contract\\_line\\_net\\_usd\\_amount & product\\_net\\_price & sales\\_node\\_renewal\\_rate & customer\\_renewal\\_rate & partner\\_renewal\\_rate & product\\_renewal\\_rate & service\\_sales\\_node\\_installed\\_base\\_sales\\_node\\_renewal\\_rate & service\\_partner\\_installed\\_base\\_partner\\_renewal\\_rate\\\\\n",
       "\\hline\n",
       "\t 6377987                                                          & N                                                                & CED2046F45038B444E46B39BDEFCE9CB7723BC3A18B144A7766C19F22EB30D2E & 025B4B93C290BB30D46E3BCFD9A2438A83C8C6ECE78F5F3CB7A1FA85218AD24E & Y                                                                & 000034B6E823EDAA1E83C89369FA913A5189353886BE3C87F0D3C989FD85E25B & null                                                             & Standard Cisco - US                                              & Resale                                                           & Latest-INSTALLED                                                 & ...                                                              & NA                                                               & A096DD969881554D12B5297CD9DF3CB0C6632E882AA28126C8FC410923A74EDF & 0                                                                & 0                                                                & 64                                                               & NULL                                                             & 53                                                               & NULL                                                             & 64                                                               & 53                                                              \\\\\n",
       "\t 6019776                                                          & N                                                                & C32E506BCBC56AFBA803716D76E630A9141FB86ABF80BFB24B1CF967C87A2AA9 & 85F875950DAE9B6F3C835987B1CB594FD66FCFD26B9656FC6BC0B07236E6F09F & Y                                                                & 000034B6E823EDAA1E83C89369FA913A5189353886BE3C87F0D3C989FD85E25B & null                                                             & Standard Cisco - US                                              & Resale                                                           & Latest-INSTALLED                                                 & ...                                                              & NA                                                               & A096DD969881554D12B5297CD9DF3CB0C6632E882AA28126C8FC410923A74EDF & 0                                                                & 0                                                                & 64                                                               & NULL                                                             & 53                                                               & NULL                                                             & 64                                                               & 53                                                              \\\\\n",
       "\t  380293                                                          & N                                                                & 0C57CB6B18F10E9710D1FD08C579732E6D8497BB11037AF3FEA027AAC4725923 & FDDE9B6C347CD673AA030233B2E77E47ADE969CA7A66EFB4BAABDE04FAA4026C & Y                                                                & 000034B6E823EDAA1E83C89369FA913A5189353886BE3C87F0D3C989FD85E25B & null                                                             & Standard Cisco - US                                              & Resale                                                           & Latest-INSTALLED                                                 & ...                                                              & NA                                                               & A096DD969881554D12B5297CD9DF3CB0C6632E882AA28126C8FC410923A74EDF & 0                                                                & 0                                                                & 64                                                               & NULL                                                             & 53                                                               & NULL                                                             & 64                                                               & 53                                                              \\\\\n",
       "\t 4366777                                                          & N                                                                & 8D9CEFB3C70524AF2FD2B9543FC0289766B4298366BB816109C86C1EE3A11862 & EBE5DDA92260B430175EE4B240790D34D0A8D15097B9A1DC7BA6CC841853C114 & Y                                                                & 000034B6E823EDAA1E83C89369FA913A5189353886BE3C87F0D3C989FD85E25B & null                                                             & Standard Cisco - US                                              & Resale                                                           & Latest-INSTALLED                                                 & ...                                                              & NA                                                               & A096DD969881554D12B5297CD9DF3CB0C6632E882AA28126C8FC410923A74EDF & 0                                                                & 0                                                                & 64                                                               & NULL                                                             & 53                                                               & NULL                                                             & 64                                                               & 53                                                              \\\\\n",
       "\t 7840051                                                          & N                                                                & FE1BD8A298629EC753E9BD185CA2793C07188CEF05F4B764FA943EFBC32E6460 & 487471F424BE75F4E504859B7686E4BE23F05252B79A6AC0CD4F51B38AC442F8 & Y                                                                & 000034B6E823EDAA1E83C89369FA913A5189353886BE3C87F0D3C989FD85E25B & null                                                             & Standard Cisco - US                                              & Resale                                                           & Latest-INSTALLED                                                 & ...                                                              & NA                                                               & A096DD969881554D12B5297CD9DF3CB0C6632E882AA28126C8FC410923A74EDF & 0                                                                & 0                                                                & 64                                                               & NULL                                                             & 53                                                               & NULL                                                             & 64                                                               & 53                                                              \\\\\n",
       "\t 7562698                                                          & N                                                                & F525DC7429D1EC9EC3BD1E68C014B8354E58B9DD670A9ED413490FA6EC711C6E & 70C31B41DE3BAE9220A9FB103DD01AA761B8FC91131771A6EAF9D6DE670A8CFE & Y                                                                & 000034B6E823EDAA1E83C89369FA913A5189353886BE3C87F0D3C989FD85E25B & null                                                             & Standard Cisco - US                                              & Resale                                                           & Latest-INSTALLED                                                 & ...                                                              & NA                                                               & A096DD969881554D12B5297CD9DF3CB0C6632E882AA28126C8FC410923A74EDF & 0                                                                & 0                                                                & 64                                                               & NULL                                                             & 53                                                               & NULL                                                             & 64                                                               & 53                                                              \\\\\n",
       "\\end{tabular}\n"
      ],
      "text/markdown": [
       "\n",
       "innovation_challenge_key | renewed_yorn | instance_id | contract_line_id | minor_line_yorn | major_line_instance_id | installation_date | product_sales_order_type | product_purchase_order_type | instance_status | ... | service_distributor_base_theater_name | service_distributor_base_distributor_normalized_name | contract_line_net_usd_amount | product_net_price | sales_node_renewal_rate | customer_renewal_rate | partner_renewal_rate | product_renewal_rate | service_sales_node_installed_base_sales_node_renewal_rate | service_partner_installed_base_partner_renewal_rate | \n",
       "|---|---|---|---|---|---|\n",
       "| 6377987                                                          | N                                                                | CED2046F45038B444E46B39BDEFCE9CB7723BC3A18B144A7766C19F22EB30D2E | 025B4B93C290BB30D46E3BCFD9A2438A83C8C6ECE78F5F3CB7A1FA85218AD24E | Y                                                                | 000034B6E823EDAA1E83C89369FA913A5189353886BE3C87F0D3C989FD85E25B | null                                                             | Standard Cisco - US                                              | Resale                                                           | Latest-INSTALLED                                                 | ...                                                              | NA                                                               | A096DD969881554D12B5297CD9DF3CB0C6632E882AA28126C8FC410923A74EDF | 0                                                                | 0                                                                | 64                                                               | NULL                                                             | 53                                                               | NULL                                                             | 64                                                               | 53                                                               | \n",
       "| 6019776                                                          | N                                                                | C32E506BCBC56AFBA803716D76E630A9141FB86ABF80BFB24B1CF967C87A2AA9 | 85F875950DAE9B6F3C835987B1CB594FD66FCFD26B9656FC6BC0B07236E6F09F | Y                                                                | 000034B6E823EDAA1E83C89369FA913A5189353886BE3C87F0D3C989FD85E25B | null                                                             | Standard Cisco - US                                              | Resale                                                           | Latest-INSTALLED                                                 | ...                                                              | NA                                                               | A096DD969881554D12B5297CD9DF3CB0C6632E882AA28126C8FC410923A74EDF | 0                                                                | 0                                                                | 64                                                               | NULL                                                             | 53                                                               | NULL                                                             | 64                                                               | 53                                                               | \n",
       "|  380293                                                          | N                                                                | 0C57CB6B18F10E9710D1FD08C579732E6D8497BB11037AF3FEA027AAC4725923 | FDDE9B6C347CD673AA030233B2E77E47ADE969CA7A66EFB4BAABDE04FAA4026C | Y                                                                | 000034B6E823EDAA1E83C89369FA913A5189353886BE3C87F0D3C989FD85E25B | null                                                             | Standard Cisco - US                                              | Resale                                                           | Latest-INSTALLED                                                 | ...                                                              | NA                                                               | A096DD969881554D12B5297CD9DF3CB0C6632E882AA28126C8FC410923A74EDF | 0                                                                | 0                                                                | 64                                                               | NULL                                                             | 53                                                               | NULL                                                             | 64                                                               | 53                                                               | \n",
       "| 4366777                                                          | N                                                                | 8D9CEFB3C70524AF2FD2B9543FC0289766B4298366BB816109C86C1EE3A11862 | EBE5DDA92260B430175EE4B240790D34D0A8D15097B9A1DC7BA6CC841853C114 | Y                                                                | 000034B6E823EDAA1E83C89369FA913A5189353886BE3C87F0D3C989FD85E25B | null                                                             | Standard Cisco - US                                              | Resale                                                           | Latest-INSTALLED                                                 | ...                                                              | NA                                                               | A096DD969881554D12B5297CD9DF3CB0C6632E882AA28126C8FC410923A74EDF | 0                                                                | 0                                                                | 64                                                               | NULL                                                             | 53                                                               | NULL                                                             | 64                                                               | 53                                                               | \n",
       "| 7840051                                                          | N                                                                | FE1BD8A298629EC753E9BD185CA2793C07188CEF05F4B764FA943EFBC32E6460 | 487471F424BE75F4E504859B7686E4BE23F05252B79A6AC0CD4F51B38AC442F8 | Y                                                                | 000034B6E823EDAA1E83C89369FA913A5189353886BE3C87F0D3C989FD85E25B | null                                                             | Standard Cisco - US                                              | Resale                                                           | Latest-INSTALLED                                                 | ...                                                              | NA                                                               | A096DD969881554D12B5297CD9DF3CB0C6632E882AA28126C8FC410923A74EDF | 0                                                                | 0                                                                | 64                                                               | NULL                                                             | 53                                                               | NULL                                                             | 64                                                               | 53                                                               | \n",
       "| 7562698                                                          | N                                                                | F525DC7429D1EC9EC3BD1E68C014B8354E58B9DD670A9ED413490FA6EC711C6E | 70C31B41DE3BAE9220A9FB103DD01AA761B8FC91131771A6EAF9D6DE670A8CFE | Y                                                                | 000034B6E823EDAA1E83C89369FA913A5189353886BE3C87F0D3C989FD85E25B | null                                                             | Standard Cisco - US                                              | Resale                                                           | Latest-INSTALLED                                                 | ...                                                              | NA                                                               | A096DD969881554D12B5297CD9DF3CB0C6632E882AA28126C8FC410923A74EDF | 0                                                                | 0                                                                | 64                                                               | NULL                                                             | 53                                                               | NULL                                                             | 64                                                               | 53                                                               | \n",
       "\n",
       "\n"
      ],
      "text/plain": [
       "  innovation_challenge_key renewed_yorn\n",
       "1 6377987                  N           \n",
       "2 6019776                  N           \n",
       "3  380293                  N           \n",
       "4 4366777                  N           \n",
       "5 7840051                  N           \n",
       "6 7562698                  N           \n",
       "  instance_id                                                     \n",
       "1 CED2046F45038B444E46B39BDEFCE9CB7723BC3A18B144A7766C19F22EB30D2E\n",
       "2 C32E506BCBC56AFBA803716D76E630A9141FB86ABF80BFB24B1CF967C87A2AA9\n",
       "3 0C57CB6B18F10E9710D1FD08C579732E6D8497BB11037AF3FEA027AAC4725923\n",
       "4 8D9CEFB3C70524AF2FD2B9543FC0289766B4298366BB816109C86C1EE3A11862\n",
       "5 FE1BD8A298629EC753E9BD185CA2793C07188CEF05F4B764FA943EFBC32E6460\n",
       "6 F525DC7429D1EC9EC3BD1E68C014B8354E58B9DD670A9ED413490FA6EC711C6E\n",
       "  contract_line_id                                                \n",
       "1 025B4B93C290BB30D46E3BCFD9A2438A83C8C6ECE78F5F3CB7A1FA85218AD24E\n",
       "2 85F875950DAE9B6F3C835987B1CB594FD66FCFD26B9656FC6BC0B07236E6F09F\n",
       "3 FDDE9B6C347CD673AA030233B2E77E47ADE969CA7A66EFB4BAABDE04FAA4026C\n",
       "4 EBE5DDA92260B430175EE4B240790D34D0A8D15097B9A1DC7BA6CC841853C114\n",
       "5 487471F424BE75F4E504859B7686E4BE23F05252B79A6AC0CD4F51B38AC442F8\n",
       "6 70C31B41DE3BAE9220A9FB103DD01AA761B8FC91131771A6EAF9D6DE670A8CFE\n",
       "  minor_line_yorn\n",
       "1 Y              \n",
       "2 Y              \n",
       "3 Y              \n",
       "4 Y              \n",
       "5 Y              \n",
       "6 Y              \n",
       "  major_line_instance_id                                          \n",
       "1 000034B6E823EDAA1E83C89369FA913A5189353886BE3C87F0D3C989FD85E25B\n",
       "2 000034B6E823EDAA1E83C89369FA913A5189353886BE3C87F0D3C989FD85E25B\n",
       "3 000034B6E823EDAA1E83C89369FA913A5189353886BE3C87F0D3C989FD85E25B\n",
       "4 000034B6E823EDAA1E83C89369FA913A5189353886BE3C87F0D3C989FD85E25B\n",
       "5 000034B6E823EDAA1E83C89369FA913A5189353886BE3C87F0D3C989FD85E25B\n",
       "6 000034B6E823EDAA1E83C89369FA913A5189353886BE3C87F0D3C989FD85E25B\n",
       "  installation_date product_sales_order_type product_purchase_order_type\n",
       "1 null              Standard Cisco - US      Resale                     \n",
       "2 null              Standard Cisco - US      Resale                     \n",
       "3 null              Standard Cisco - US      Resale                     \n",
       "4 null              Standard Cisco - US      Resale                     \n",
       "5 null              Standard Cisco - US      Resale                     \n",
       "6 null              Standard Cisco - US      Resale                     \n",
       "  instance_status  ... service_distributor_base_theater_name\n",
       "1 Latest-INSTALLED ... NA                                   \n",
       "2 Latest-INSTALLED ... NA                                   \n",
       "3 Latest-INSTALLED ... NA                                   \n",
       "4 Latest-INSTALLED ... NA                                   \n",
       "5 Latest-INSTALLED ... NA                                   \n",
       "6 Latest-INSTALLED ... NA                                   \n",
       "  service_distributor_base_distributor_normalized_name            \n",
       "1 A096DD969881554D12B5297CD9DF3CB0C6632E882AA28126C8FC410923A74EDF\n",
       "2 A096DD969881554D12B5297CD9DF3CB0C6632E882AA28126C8FC410923A74EDF\n",
       "3 A096DD969881554D12B5297CD9DF3CB0C6632E882AA28126C8FC410923A74EDF\n",
       "4 A096DD969881554D12B5297CD9DF3CB0C6632E882AA28126C8FC410923A74EDF\n",
       "5 A096DD969881554D12B5297CD9DF3CB0C6632E882AA28126C8FC410923A74EDF\n",
       "6 A096DD969881554D12B5297CD9DF3CB0C6632E882AA28126C8FC410923A74EDF\n",
       "  contract_line_net_usd_amount product_net_price sales_node_renewal_rate\n",
       "1 0                            0                 64                     \n",
       "2 0                            0                 64                     \n",
       "3 0                            0                 64                     \n",
       "4 0                            0                 64                     \n",
       "5 0                            0                 64                     \n",
       "6 0                            0                 64                     \n",
       "  customer_renewal_rate partner_renewal_rate product_renewal_rate\n",
       "1 NULL                  53                   NULL                \n",
       "2 NULL                  53                   NULL                \n",
       "3 NULL                  53                   NULL                \n",
       "4 NULL                  53                   NULL                \n",
       "5 NULL                  53                   NULL                \n",
       "6 NULL                  53                   NULL                \n",
       "  service_sales_node_installed_base_sales_node_renewal_rate\n",
       "1 64                                                       \n",
       "2 64                                                       \n",
       "3 64                                                       \n",
       "4 64                                                       \n",
       "5 64                                                       \n",
       "6 64                                                       \n",
       "  service_partner_installed_base_partner_renewal_rate\n",
       "1 53                                                 \n",
       "2 53                                                 \n",
       "3 53                                                 \n",
       "4 53                                                 \n",
       "5 53                                                 \n",
       "6 53                                                 "
      ]
     },
     "metadata": {},
     "output_type": "display_data"
    }
   ],
   "source": [
    "head(AIdataset)"
   ]
  },
  {
   "cell_type": "code",
   "execution_count": 284,
   "metadata": {},
   "outputs": [
    {
     "data": {
      "text/html": [
       "<ol class=list-inline>\n",
       "\t<li>10139</li>\n",
       "\t<li>237</li>\n",
       "</ol>\n"
      ],
      "text/latex": [
       "\\begin{enumerate*}\n",
       "\\item 10139\n",
       "\\item 237\n",
       "\\end{enumerate*}\n"
      ],
      "text/markdown": [
       "1. 10139\n",
       "2. 237\n",
       "\n",
       "\n"
      ],
      "text/plain": [
       "[1] 10139   237"
      ]
     },
     "metadata": {},
     "output_type": "display_data"
    }
   ],
   "source": [
    "# Dimesion of dataset\n",
    "dim(AIdataset)"
   ]
  },
  {
   "cell_type": "code",
   "execution_count": 285,
   "metadata": {},
   "outputs": [],
   "source": [
    "# Select key features --\n",
    "ColumnsSelected <- c('innovation_challenge_key','renewed_yorn','installed_product_type','component_type','service_contract_classification',\n",
    "                     'service_contract_process_type','contract_line_multi_year_discount_yorn','contract_line_route_to_market_code',\n",
    "                     'product_sales_channel_code','hardware_yorn','service_offering','service_sales_node_base_sub_scms_name',\n",
    "                     'business_unit','product_type','monetization_type','product_category','software_usage_type',\n",
    "                     'service_fee_amount','service_product_base_product_sub_group','four_quarter_bookings_band','top_vertical_market_name')\n"
   ]
  },
  {
   "cell_type": "code",
   "execution_count": 286,
   "metadata": {},
   "outputs": [
    {
     "data": {
      "text/html": [
       "<table>\n",
       "<thead><tr><th scope=col>innovation_challenge_key</th><th scope=col>renewed_yorn</th><th scope=col>installed_product_type</th><th scope=col>component_type</th><th scope=col>service_contract_classification</th><th scope=col>service_contract_process_type</th><th scope=col>contract_line_multi_year_discount_yorn</th><th scope=col>contract_line_route_to_market_code</th><th scope=col>product_sales_channel_code</th><th scope=col>hardware_yorn</th><th scope=col>...</th><th scope=col>service_sales_node_base_sub_scms_name</th><th scope=col>business_unit</th><th scope=col>product_type</th><th scope=col>monetization_type</th><th scope=col>product_category</th><th scope=col>software_usage_type</th><th scope=col>service_fee_amount</th><th scope=col>service_product_base_product_sub_group</th><th scope=col>four_quarter_bookings_band</th><th scope=col>top_vertical_market_name</th></tr></thead>\n",
       "<tbody>\n",
       "\t<tr><td>6377987                  </td><td>N                        </td><td>NONSERIALIZED            </td><td>CHILD                    </td><td>null                     </td><td>RESALE                   </td><td>N                        </td><td>1-TIER                   </td><td>Value Added Resellers    </td><td>N                        </td><td>...                      </td><td>COMM_SELECT              </td><td>UCIBU                    </td><td>APPSWIND                 </td><td>Perpetual                </td><td>Software                 </td><td>On-Premise               </td><td>NULL                     </td><td>ECMU                     </td><td>$500k &lt; Tier &lt;= $1m</td><td>Media/Entertainment      </td></tr>\n",
       "\t<tr><td>6019776                                              </td><td>N                                                    </td><td><span style=white-space:pre-wrap>SERIALIZED   </span></td><td>CHILD                                                </td><td>null                                                 </td><td>RESALE                                               </td><td>N                                                    </td><td>1-TIER                                               </td><td>Value Added Resellers                                </td><td>N                                                    </td><td>...                                                  </td><td>COMM_SELECT                                          </td><td>UCIBU                                                </td><td>APPSWIND                                             </td><td>Perpetual                                            </td><td>Software                                             </td><td>On-Premise                                           </td><td>NULL                                                 </td><td>ECMU                                                 </td><td>$500k &lt; Tier &lt;= $1m                            </td><td>Media/Entertainment                                  </td></tr>\n",
       "\t<tr><td> 380293                  </td><td>N                        </td><td>NONSERIALIZED            </td><td>CHILD                    </td><td>null                     </td><td>RESALE                   </td><td>N                        </td><td>1-TIER                   </td><td>Value Added Resellers    </td><td>N                        </td><td>...                      </td><td>COMM_SELECT              </td><td>UCIBU                    </td><td>APPSWIND                 </td><td>Perpetual                </td><td>Software                 </td><td>On-Premise               </td><td>NULL                     </td><td>ECMU                     </td><td>$500k &lt; Tier &lt;= $1m</td><td>Media/Entertainment      </td></tr>\n",
       "\t<tr><td>4366777                  </td><td>N                        </td><td>NONSERIALIZED            </td><td>CHILD                    </td><td>null                     </td><td>RESALE                   </td><td>N                        </td><td>1-TIER                   </td><td>Value Added Resellers    </td><td>N                        </td><td>...                      </td><td>COMM_SELECT              </td><td>UCIBU                    </td><td>APPSWIND                 </td><td>Perpetual                </td><td>Software                 </td><td>On-Premise               </td><td>NULL                     </td><td>ECMU                     </td><td>$500k &lt; Tier &lt;= $1m</td><td>Media/Entertainment      </td></tr>\n",
       "\t<tr><td>7840051                  </td><td>N                        </td><td>NONSERIALIZED            </td><td>CHILD                    </td><td>null                     </td><td>RESALE                   </td><td>N                        </td><td>1-TIER                   </td><td>Value Added Resellers    </td><td>N                        </td><td>...                      </td><td>COMM_SELECT              </td><td>UCIBU                    </td><td>APPSWIND                 </td><td>Perpetual                </td><td>Software                 </td><td>On-Premise               </td><td>NULL                     </td><td>ECMU                     </td><td>$500k &lt; Tier &lt;= $1m</td><td>Media/Entertainment      </td></tr>\n",
       "\t<tr><td>7562698                                              </td><td>N                                                    </td><td><span style=white-space:pre-wrap>SERIALIZED   </span></td><td>CHILD                                                </td><td>null                                                 </td><td>RESALE                                               </td><td>N                                                    </td><td>1-TIER                                               </td><td>Value Added Resellers                                </td><td>N                                                    </td><td>...                                                  </td><td>COMM_SELECT                                          </td><td>UCIBU                                                </td><td>APPSWIND                                             </td><td>Perpetual                                            </td><td>Software                                             </td><td>On-Premise                                           </td><td>NULL                                                 </td><td>ECMU                                                 </td><td>$500k &lt; Tier &lt;= $1m                            </td><td>Media/Entertainment                                  </td></tr>\n",
       "</tbody>\n",
       "</table>\n"
      ],
      "text/latex": [
       "\\begin{tabular}{r|lllllllllllllllllllll}\n",
       " innovation\\_challenge\\_key & renewed\\_yorn & installed\\_product\\_type & component\\_type & service\\_contract\\_classification & service\\_contract\\_process\\_type & contract\\_line\\_multi\\_year\\_discount\\_yorn & contract\\_line\\_route\\_to\\_market\\_code & product\\_sales\\_channel\\_code & hardware\\_yorn & ... & service\\_sales\\_node\\_base\\_sub\\_scms\\_name & business\\_unit & product\\_type & monetization\\_type & product\\_category & software\\_usage\\_type & service\\_fee\\_amount & service\\_product\\_base\\_product\\_sub\\_group & four\\_quarter\\_bookings\\_band & top\\_vertical\\_market\\_name\\\\\n",
       "\\hline\n",
       "\t 6377987                 & N                       & NONSERIALIZED           & CHILD                   & null                    & RESALE                  & N                       & 1-TIER                  & Value Added Resellers   & N                       & ...                     & COMM\\_SELECT           & UCIBU                   & APPSWIND                & Perpetual               & Software                & On-Premise              & NULL                    & ECMU                    & \\$500k < Tier <= \\$1m & Media/Entertainment    \\\\\n",
       "\t 6019776                 & N                       & SERIALIZED              & CHILD                   & null                    & RESALE                  & N                       & 1-TIER                  & Value Added Resellers   & N                       & ...                     & COMM\\_SELECT           & UCIBU                   & APPSWIND                & Perpetual               & Software                & On-Premise              & NULL                    & ECMU                    & \\$500k < Tier <= \\$1m & Media/Entertainment    \\\\\n",
       "\t  380293                 & N                       & NONSERIALIZED           & CHILD                   & null                    & RESALE                  & N                       & 1-TIER                  & Value Added Resellers   & N                       & ...                     & COMM\\_SELECT           & UCIBU                   & APPSWIND                & Perpetual               & Software                & On-Premise              & NULL                    & ECMU                    & \\$500k < Tier <= \\$1m & Media/Entertainment    \\\\\n",
       "\t 4366777                 & N                       & NONSERIALIZED           & CHILD                   & null                    & RESALE                  & N                       & 1-TIER                  & Value Added Resellers   & N                       & ...                     & COMM\\_SELECT           & UCIBU                   & APPSWIND                & Perpetual               & Software                & On-Premise              & NULL                    & ECMU                    & \\$500k < Tier <= \\$1m & Media/Entertainment    \\\\\n",
       "\t 7840051                 & N                       & NONSERIALIZED           & CHILD                   & null                    & RESALE                  & N                       & 1-TIER                  & Value Added Resellers   & N                       & ...                     & COMM\\_SELECT           & UCIBU                   & APPSWIND                & Perpetual               & Software                & On-Premise              & NULL                    & ECMU                    & \\$500k < Tier <= \\$1m & Media/Entertainment    \\\\\n",
       "\t 7562698                 & N                       & SERIALIZED              & CHILD                   & null                    & RESALE                  & N                       & 1-TIER                  & Value Added Resellers   & N                       & ...                     & COMM\\_SELECT           & UCIBU                   & APPSWIND                & Perpetual               & Software                & On-Premise              & NULL                    & ECMU                    & \\$500k < Tier <= \\$1m & Media/Entertainment    \\\\\n",
       "\\end{tabular}\n"
      ],
      "text/markdown": [
       "\n",
       "innovation_challenge_key | renewed_yorn | installed_product_type | component_type | service_contract_classification | service_contract_process_type | contract_line_multi_year_discount_yorn | contract_line_route_to_market_code | product_sales_channel_code | hardware_yorn | ... | service_sales_node_base_sub_scms_name | business_unit | product_type | monetization_type | product_category | software_usage_type | service_fee_amount | service_product_base_product_sub_group | four_quarter_bookings_band | top_vertical_market_name | \n",
       "|---|---|---|---|---|---|\n",
       "| 6377987               | N                     | NONSERIALIZED         | CHILD                 | null                  | RESALE                | N                     | 1-TIER                | Value Added Resellers | N                     | ...                   | COMM_SELECT           | UCIBU                 | APPSWIND              | Perpetual             | Software              | On-Premise            | NULL                  | ECMU                  | $500k < Tier <= $1m   | Media/Entertainment   | \n",
       "| 6019776               | N                     | SERIALIZED            | CHILD                 | null                  | RESALE                | N                     | 1-TIER                | Value Added Resellers | N                     | ...                   | COMM_SELECT           | UCIBU                 | APPSWIND              | Perpetual             | Software              | On-Premise            | NULL                  | ECMU                  | $500k < Tier <= $1m   | Media/Entertainment   | \n",
       "|  380293               | N                     | NONSERIALIZED         | CHILD                 | null                  | RESALE                | N                     | 1-TIER                | Value Added Resellers | N                     | ...                   | COMM_SELECT           | UCIBU                 | APPSWIND              | Perpetual             | Software              | On-Premise            | NULL                  | ECMU                  | $500k < Tier <= $1m   | Media/Entertainment   | \n",
       "| 4366777               | N                     | NONSERIALIZED         | CHILD                 | null                  | RESALE                | N                     | 1-TIER                | Value Added Resellers | N                     | ...                   | COMM_SELECT           | UCIBU                 | APPSWIND              | Perpetual             | Software              | On-Premise            | NULL                  | ECMU                  | $500k < Tier <= $1m   | Media/Entertainment   | \n",
       "| 7840051               | N                     | NONSERIALIZED         | CHILD                 | null                  | RESALE                | N                     | 1-TIER                | Value Added Resellers | N                     | ...                   | COMM_SELECT           | UCIBU                 | APPSWIND              | Perpetual             | Software              | On-Premise            | NULL                  | ECMU                  | $500k < Tier <= $1m   | Media/Entertainment   | \n",
       "| 7562698               | N                     | SERIALIZED            | CHILD                 | null                  | RESALE                | N                     | 1-TIER                | Value Added Resellers | N                     | ...                   | COMM_SELECT           | UCIBU                 | APPSWIND              | Perpetual             | Software              | On-Premise            | NULL                  | ECMU                  | $500k < Tier <= $1m   | Media/Entertainment   | \n",
       "\n",
       "\n"
      ],
      "text/plain": [
       "  innovation_challenge_key renewed_yorn installed_product_type component_type\n",
       "1 6377987                  N            NONSERIALIZED          CHILD         \n",
       "2 6019776                  N            SERIALIZED             CHILD         \n",
       "3  380293                  N            NONSERIALIZED          CHILD         \n",
       "4 4366777                  N            NONSERIALIZED          CHILD         \n",
       "5 7840051                  N            NONSERIALIZED          CHILD         \n",
       "6 7562698                  N            SERIALIZED             CHILD         \n",
       "  service_contract_classification service_contract_process_type\n",
       "1 null                            RESALE                       \n",
       "2 null                            RESALE                       \n",
       "3 null                            RESALE                       \n",
       "4 null                            RESALE                       \n",
       "5 null                            RESALE                       \n",
       "6 null                            RESALE                       \n",
       "  contract_line_multi_year_discount_yorn contract_line_route_to_market_code\n",
       "1 N                                      1-TIER                            \n",
       "2 N                                      1-TIER                            \n",
       "3 N                                      1-TIER                            \n",
       "4 N                                      1-TIER                            \n",
       "5 N                                      1-TIER                            \n",
       "6 N                                      1-TIER                            \n",
       "  product_sales_channel_code hardware_yorn ...\n",
       "1 Value Added Resellers      N             ...\n",
       "2 Value Added Resellers      N             ...\n",
       "3 Value Added Resellers      N             ...\n",
       "4 Value Added Resellers      N             ...\n",
       "5 Value Added Resellers      N             ...\n",
       "6 Value Added Resellers      N             ...\n",
       "  service_sales_node_base_sub_scms_name business_unit product_type\n",
       "1 COMM_SELECT                           UCIBU         APPSWIND    \n",
       "2 COMM_SELECT                           UCIBU         APPSWIND    \n",
       "3 COMM_SELECT                           UCIBU         APPSWIND    \n",
       "4 COMM_SELECT                           UCIBU         APPSWIND    \n",
       "5 COMM_SELECT                           UCIBU         APPSWIND    \n",
       "6 COMM_SELECT                           UCIBU         APPSWIND    \n",
       "  monetization_type product_category software_usage_type service_fee_amount\n",
       "1 Perpetual         Software         On-Premise          NULL              \n",
       "2 Perpetual         Software         On-Premise          NULL              \n",
       "3 Perpetual         Software         On-Premise          NULL              \n",
       "4 Perpetual         Software         On-Premise          NULL              \n",
       "5 Perpetual         Software         On-Premise          NULL              \n",
       "6 Perpetual         Software         On-Premise          NULL              \n",
       "  service_product_base_product_sub_group four_quarter_bookings_band\n",
       "1 ECMU                                   $500k < Tier <= $1m       \n",
       "2 ECMU                                   $500k < Tier <= $1m       \n",
       "3 ECMU                                   $500k < Tier <= $1m       \n",
       "4 ECMU                                   $500k < Tier <= $1m       \n",
       "5 ECMU                                   $500k < Tier <= $1m       \n",
       "6 ECMU                                   $500k < Tier <= $1m       \n",
       "  top_vertical_market_name\n",
       "1 Media/Entertainment     \n",
       "2 Media/Entertainment     \n",
       "3 Media/Entertainment     \n",
       "4 Media/Entertainment     \n",
       "5 Media/Entertainment     \n",
       "6 Media/Entertainment     "
      ]
     },
     "metadata": {},
     "output_type": "display_data"
    }
   ],
   "source": [
    "AIdataset <- AIdataset[ColumnsSelected]\n",
    "head(AIdataset)"
   ]
  },
  {
   "cell_type": "code",
   "execution_count": 287,
   "metadata": {},
   "outputs": [
    {
     "data": {
      "text/html": [
       "<ol class=list-inline>\n",
       "\t<li>10139</li>\n",
       "\t<li>21</li>\n",
       "</ol>\n"
      ],
      "text/latex": [
       "\\begin{enumerate*}\n",
       "\\item 10139\n",
       "\\item 21\n",
       "\\end{enumerate*}\n"
      ],
      "text/markdown": [
       "1. 10139\n",
       "2. 21\n",
       "\n",
       "\n"
      ],
      "text/plain": [
       "[1] 10139    21"
      ]
     },
     "metadata": {},
     "output_type": "display_data"
    }
   ],
   "source": [
    "# Dimesion of dataset\n",
    "dim(AIdataset)"
   ]
  },
  {
   "cell_type": "code",
   "execution_count": 288,
   "metadata": {},
   "outputs": [
    {
     "data": {
      "text/html": [
       "<table>\n",
       "<thead><tr><th></th><th scope=col>freq</th><th scope=col>percentage</th></tr></thead>\n",
       "<tbody>\n",
       "\t<tr><th scope=row>N</th><td>2101    </td><td>20.72196</td></tr>\n",
       "\t<tr><th scope=row>null</th><td>1514    </td><td>14.93244</td></tr>\n",
       "\t<tr><th scope=row>Y</th><td>6524    </td><td>64.34560</td></tr>\n",
       "</tbody>\n",
       "</table>\n"
      ],
      "text/latex": [
       "\\begin{tabular}{r|ll}\n",
       "  & freq & percentage\\\\\n",
       "\\hline\n",
       "\tN & 2101     & 20.72196\\\\\n",
       "\tnull & 1514     & 14.93244\\\\\n",
       "\tY & 6524     & 64.34560\\\\\n",
       "\\end{tabular}\n"
      ],
      "text/markdown": [
       "\n",
       "| <!--/--> | freq | percentage | \n",
       "|---|---|---|\n",
       "| N | 2101     | 20.72196 | \n",
       "| null | 1514     | 14.93244 | \n",
       "| Y | 6524     | 64.34560 | \n",
       "\n",
       "\n"
      ],
      "text/plain": [
       "     freq percentage\n",
       "N    2101 20.72196  \n",
       "null 1514 14.93244  \n",
       "Y    6524 64.34560  "
      ]
     },
     "metadata": {},
     "output_type": "display_data"
    }
   ],
   "source": [
    "ClassDistribution <- cbind(freq=table(AIdataset$renewed_yorn), percentage=prop.table(table(AIdataset$renewed_yorn))*100)\n",
    "ClassDistribution"
   ]
  },
  {
   "cell_type": "code",
   "execution_count": 289,
   "metadata": {},
   "outputs": [
    {
     "data": {
      "text/html": [
       "<dl class=dl-horizontal>\n",
       "\t<dt>innovation_challenge_key</dt>\n",
       "\t\t<dd>'integer'</dd>\n",
       "\t<dt>renewed_yorn</dt>\n",
       "\t\t<dd>'character'</dd>\n",
       "\t<dt>installed_product_type</dt>\n",
       "\t\t<dd>'character'</dd>\n",
       "\t<dt>component_type</dt>\n",
       "\t\t<dd>'character'</dd>\n",
       "\t<dt>service_contract_classification</dt>\n",
       "\t\t<dd>'character'</dd>\n",
       "\t<dt>service_contract_process_type</dt>\n",
       "\t\t<dd>'character'</dd>\n",
       "\t<dt>contract_line_multi_year_discount_yorn</dt>\n",
       "\t\t<dd>'character'</dd>\n",
       "\t<dt>contract_line_route_to_market_code</dt>\n",
       "\t\t<dd>'character'</dd>\n",
       "\t<dt>product_sales_channel_code</dt>\n",
       "\t\t<dd>'character'</dd>\n",
       "\t<dt>hardware_yorn</dt>\n",
       "\t\t<dd>'character'</dd>\n",
       "\t<dt>service_offering</dt>\n",
       "\t\t<dd>'character'</dd>\n",
       "\t<dt>service_sales_node_base_sub_scms_name</dt>\n",
       "\t\t<dd>'character'</dd>\n",
       "\t<dt>business_unit</dt>\n",
       "\t\t<dd>'character'</dd>\n",
       "\t<dt>product_type</dt>\n",
       "\t\t<dd>'character'</dd>\n",
       "\t<dt>monetization_type</dt>\n",
       "\t\t<dd>'character'</dd>\n",
       "\t<dt>product_category</dt>\n",
       "\t\t<dd>'character'</dd>\n",
       "\t<dt>software_usage_type</dt>\n",
       "\t\t<dd>'character'</dd>\n",
       "\t<dt>service_fee_amount</dt>\n",
       "\t\t<dd>'character'</dd>\n",
       "\t<dt>service_product_base_product_sub_group</dt>\n",
       "\t\t<dd>'character'</dd>\n",
       "\t<dt>four_quarter_bookings_band</dt>\n",
       "\t\t<dd>'character'</dd>\n",
       "\t<dt>top_vertical_market_name</dt>\n",
       "\t\t<dd>'character'</dd>\n",
       "</dl>\n"
      ],
      "text/latex": [
       "\\begin{description*}\n",
       "\\item[innovation\\textbackslash{}\\_challenge\\textbackslash{}\\_key] 'integer'\n",
       "\\item[renewed\\textbackslash{}\\_yorn] 'character'\n",
       "\\item[installed\\textbackslash{}\\_product\\textbackslash{}\\_type] 'character'\n",
       "\\item[component\\textbackslash{}\\_type] 'character'\n",
       "\\item[service\\textbackslash{}\\_contract\\textbackslash{}\\_classification] 'character'\n",
       "\\item[service\\textbackslash{}\\_contract\\textbackslash{}\\_process\\textbackslash{}\\_type] 'character'\n",
       "\\item[contract\\textbackslash{}\\_line\\textbackslash{}\\_multi\\textbackslash{}\\_year\\textbackslash{}\\_discount\\textbackslash{}\\_yorn] 'character'\n",
       "\\item[contract\\textbackslash{}\\_line\\textbackslash{}\\_route\\textbackslash{}\\_to\\textbackslash{}\\_market\\textbackslash{}\\_code] 'character'\n",
       "\\item[product\\textbackslash{}\\_sales\\textbackslash{}\\_channel\\textbackslash{}\\_code] 'character'\n",
       "\\item[hardware\\textbackslash{}\\_yorn] 'character'\n",
       "\\item[service\\textbackslash{}\\_offering] 'character'\n",
       "\\item[service\\textbackslash{}\\_sales\\textbackslash{}\\_node\\textbackslash{}\\_base\\textbackslash{}\\_sub\\textbackslash{}\\_scms\\textbackslash{}\\_name] 'character'\n",
       "\\item[business\\textbackslash{}\\_unit] 'character'\n",
       "\\item[product\\textbackslash{}\\_type] 'character'\n",
       "\\item[monetization\\textbackslash{}\\_type] 'character'\n",
       "\\item[product\\textbackslash{}\\_category] 'character'\n",
       "\\item[software\\textbackslash{}\\_usage\\textbackslash{}\\_type] 'character'\n",
       "\\item[service\\textbackslash{}\\_fee\\textbackslash{}\\_amount] 'character'\n",
       "\\item[service\\textbackslash{}\\_product\\textbackslash{}\\_base\\textbackslash{}\\_product\\textbackslash{}\\_sub\\textbackslash{}\\_group] 'character'\n",
       "\\item[four\\textbackslash{}\\_quarter\\textbackslash{}\\_bookings\\textbackslash{}\\_band] 'character'\n",
       "\\item[top\\textbackslash{}\\_vertical\\textbackslash{}\\_market\\textbackslash{}\\_name] 'character'\n",
       "\\end{description*}\n"
      ],
      "text/markdown": [
       "innovation_challenge_key\n",
       ":   'integer'renewed_yorn\n",
       ":   'character'installed_product_type\n",
       ":   'character'component_type\n",
       ":   'character'service_contract_classification\n",
       ":   'character'service_contract_process_type\n",
       ":   'character'contract_line_multi_year_discount_yorn\n",
       ":   'character'contract_line_route_to_market_code\n",
       ":   'character'product_sales_channel_code\n",
       ":   'character'hardware_yorn\n",
       ":   'character'service_offering\n",
       ":   'character'service_sales_node_base_sub_scms_name\n",
       ":   'character'business_unit\n",
       ":   'character'product_type\n",
       ":   'character'monetization_type\n",
       ":   'character'product_category\n",
       ":   'character'software_usage_type\n",
       ":   'character'service_fee_amount\n",
       ":   'character'service_product_base_product_sub_group\n",
       ":   'character'four_quarter_bookings_band\n",
       ":   'character'top_vertical_market_name\n",
       ":   'character'\n",
       "\n"
      ],
      "text/plain": [
       "              innovation_challenge_key                           renewed_yorn \n",
       "                             \"integer\"                            \"character\" \n",
       "                installed_product_type                         component_type \n",
       "                           \"character\"                            \"character\" \n",
       "       service_contract_classification          service_contract_process_type \n",
       "                           \"character\"                            \"character\" \n",
       "contract_line_multi_year_discount_yorn     contract_line_route_to_market_code \n",
       "                           \"character\"                            \"character\" \n",
       "            product_sales_channel_code                          hardware_yorn \n",
       "                           \"character\"                            \"character\" \n",
       "                      service_offering  service_sales_node_base_sub_scms_name \n",
       "                           \"character\"                            \"character\" \n",
       "                         business_unit                           product_type \n",
       "                           \"character\"                            \"character\" \n",
       "                     monetization_type                       product_category \n",
       "                           \"character\"                            \"character\" \n",
       "                   software_usage_type                     service_fee_amount \n",
       "                           \"character\"                            \"character\" \n",
       "service_product_base_product_sub_group             four_quarter_bookings_band \n",
       "                           \"character\"                            \"character\" \n",
       "              top_vertical_market_name \n",
       "                           \"character\" "
      ]
     },
     "metadata": {},
     "output_type": "display_data"
    }
   ],
   "source": [
    "sapply(AIdataset,class)"
   ]
  },
  {
   "cell_type": "code",
   "execution_count": 290,
   "metadata": {},
   "outputs": [
    {
     "data": {
      "text/html": [
       "21"
      ],
      "text/latex": [
       "21"
      ],
      "text/markdown": [
       "21"
      ],
      "text/plain": [
       "[1] 21"
      ]
     },
     "metadata": {},
     "output_type": "display_data"
    }
   ],
   "source": [
    "ncol(AIdataset)"
   ]
  },
  {
   "cell_type": "code",
   "execution_count": 291,
   "metadata": {},
   "outputs": [
    {
     "data": {
      "image/png": "[encoded data removed]",
      "text/plain": [
       "Plot with title \"component_type\""
      ]
     },
     "metadata": {},
     "output_type": "display_data"
    },
    {
     "data": {
      "image/png": "[encoded data removed]",
      "text/plain": [
       "Plot with title \"contract_line_route_to_market_code\""
      ]
     },
     "metadata": {},
     "output_type": "display_data"
    },
    {
     "data": {
      "image/png": "[encoded data removed]",
      "text/plain": [
       "Plot with title \"service_sales_node_base_sub_scms_name\""
      ]
     },
     "metadata": {},
     "output_type": "display_data"
    },
    {
     "data": {
      "image/png": "[encoded data removed]",
      "text/plain": [
       "Plot with title \"product_category\""
      ]
     },
     "metadata": {},
     "output_type": "display_data"
    },
    {
     "data": {
      "image/png": "[encoded data removed]",
      "text/plain": [
       "Plot with title \"four_quarter_bookings_band\""
      ]
     },
     "metadata": {},
     "output_type": "display_data"
    },
    {
     "data": {
      "image/png": "[encoded data removed]",
      "text/plain": [
       "Plot with title \"top_vertical_market_name\""
      ]
     },
     "metadata": {},
     "output_type": "display_data"
    }
   ],
   "source": [
    "############################ Visualization ################################\n",
    "\n",
    "#### Print  attributes - LATEST  *******************************************\n",
    "\n",
    "#dev.copy(png,'predataProcessing.png')\n",
    "#jpeg('predataProcessing.jpg')\n",
    "\n",
    " par(mfrow=c(2,2))\n",
    " for(i in 1:ncol(AIdataset)) {\n",
    "   counts <- table(AIdataset[,i])\n",
    "   name <- names(AIdataset)[i]\n",
    "   #barplot(counts, main=name,col = rainbow(12))\n",
    "   # barplot(counts, main=name,col = c(\"red\",\"blue\",\"green\",\"orange\"))\n",
    "   barplot(counts, main=name,col = topo.colors(12))\n",
    " }\n",
    "#dev.off()\n",
    "\n",
    "######################################################################################"
   ]
  },
  {
   "cell_type": "code",
   "execution_count": null,
   "metadata": {},
   "outputs": [],
   "source": []
  },
  {
   "cell_type": "code",
   "execution_count": 292,
   "metadata": {},
   "outputs": [],
   "source": [
    "\n",
    "# Data clean up and categorization\n",
    "\n",
    "AIdataset$installed_product_type <- as.factor(ifelse(AIdataset$installed_product_type %in% 'NONSERIALIZED',1,\n",
    "                                                     ifelse(AIdataset$installed_product_type %in% 'SERIALIZED',2,\n",
    "                                                            ifelse(AIdataset$installed_product_type %in%  c('null','N/A','NULL','UNKNOWN','Unknown'),0,\n",
    "                                                                   99)\n",
    "                                                     )\n",
    ")\n",
    ")\n",
    "\n",
    "AIdataset$component_type <- as.factor(ifelse(AIdataset$component_type %in% 'CHILD',1,\n",
    "                                             ifelse(AIdataset$component_type %in% 'PARENT',2,\n",
    "                                                    ifelse(AIdataset$component_type %in% 'PARENT-CHILD',3,\n",
    "                                                           ifelse(AIdataset$component_type %in% 'STANDALONE',4,\n",
    "                                                                  ifelse(AIdataset$component_type %in%  c('null','N/A','NULL','UNKNOWN','Unknown'),0,\n",
    "                                                                         99)\n",
    "                                                           )\n",
    "                                                    )\n",
    "                                             )\n",
    ")\n",
    ")\n",
    "\n",
    "\n",
    "\n",
    "AIdataset$service_contract_classification <- as.factor(ifelse(AIdataset$service_contract_classification %in% 'ERN',1,\n",
    "                                                              ifelse(AIdataset$service_contract_classification %in% 'HDC',2,\n",
    "                                                                     ifelse(AIdataset$service_contract_classification %in% 'LDC',3,\n",
    "                                                                            ifelse(AIdataset$service_contract_classification %in%  c('null','N/A','NULL','UNKNOWN','Unknown'),0,\n",
    "                                                                                   99)\n",
    "                                                                     )\n",
    "                                                              )\n",
    ")\n",
    ")\n",
    "\n",
    "\n",
    "AIdataset$service_contract_process_type <- as.factor(ifelse(AIdataset$service_contract_process_type %in% 'INTERNAL BUSINESS USE',1,\n",
    "                                                            ifelse(AIdataset$service_contract_process_type %in% 'LAB',2,\n",
    "                                                                   ifelse(AIdataset$service_contract_process_type %in% 'LEASING',3,\n",
    "                                                                          ifelse(AIdataset$service_contract_process_type %in% 'MANAGED SERVICE',4,\n",
    "                                                                                 ifelse(AIdataset$service_contract_process_type %in% 'RESALE',5,\n",
    "                                                                                        ifelse(AIdataset$service_contract_process_type %in% 'SERVICE PROVISION USE',6,\n",
    "                                                                                               ifelse(AIdataset$service_contract_process_type %in%  c('null','N/A','NULL','UNKNOWN','Unknown'),0,\n",
    "                                                                                                      99)\n",
    "                                                                                        )\n",
    "                                                                                 )\n",
    "                                                                          )\n",
    "                                                                   )\n",
    "                                                            )\n",
    ")\n",
    ")\n",
    "\n",
    "\n",
    "\n",
    "AIdataset$contract_line_multi_year_discount_yorn <- as.factor(ifelse(AIdataset$contract_line_multi_year_discount_yorn %in% 'Y',1,\n",
    "                                                                     ifelse(AIdataset$contract_line_multi_year_discount_yorn %in% 'N',0,\n",
    "                                                                            ifelse(AIdataset$contract_line_multi_year_discount_yorn %in%  c('null','N/A','NULL','UNKNOWN','Unknown'),0,\n",
    "                                                                                   99)\n",
    "                                                                     )\n",
    ")\n",
    ")\n",
    "\n",
    "\n",
    "AIdataset$contract_line_route_to_market_code <- as.factor(ifelse(AIdataset$contract_line_route_to_market_code %in% '1-TIER',1,\n",
    "                                                                 ifelse(AIdataset$contract_line_route_to_market_code %in% '2-TIER',2,\n",
    "                                                                        ifelse(AIdataset$contract_line_route_to_market_code %in% 'DIRECT',3,\n",
    "                                                                               ifelse(AIdataset$contract_line_route_to_market_code %in%  c('null','N/A','NULL','UNKNOWN','Unknown'),0,\n",
    "                                                                                      99)\n",
    "                                                                        )\n",
    "                                                                 )\n",
    ")\n",
    ")\n",
    "\n",
    "#### FIX AIdataset$product_sales_channel_code issue ---NOT summing correctly ????\n",
    "\n",
    "AIdataset$product_sales_channel_code <- as.factor(ifelse(AIdataset$product_sales_channel_code %in% c('2-TIER DISTRIBUTOR','Two Tier Distributor'),1,                                                                                              \n",
    "                                                         ifelse(AIdataset$product_sales_channel_code %in% c('DIRECT','Direct','End Customer'),2,\n",
    "                                                                ifelse(AIdataset$product_sales_channel_code %in% 'DVAD',3,\n",
    "                                                                       ifelse(AIdataset$product_sales_channel_code %in% 'IVAR',4,\n",
    "                                                                              ifelse(AIdataset$product_sales_channel_code %in% c('SERVICE PROVIDER','Subsidiaries'),5,\n",
    "                                                                                     ifelse(AIdataset$product_sales_channel_code %in% c('SP-IXC','SP-LEC','SP-PTT','SP-Wireless'),6,\n",
    "                                                                                            ifelse(AIdataset$product_sales_channel_code %in% c('SYS INTEGRATOR','Systems'),7,\n",
    "                                                                                                   ifelse(AIdataset$product_sales_channel_code %in% c('Value Added Resellers','VARS'),8,\n",
    "                                                                                                          ifelse(AIdataset$product_sales_channel_code %in% 'NC/ADJ',9,\n",
    "                                                                                                                 ifelse(AIdataset$product_sales_channel_code %in% 'Internal',10,\n",
    "                                                                                                                        ifelse(AIdataset$product_sales_channel_code %in% c('null','N/A','NULL','UNKNOWN','Unknown'),0,\n",
    "                                                                                                                               99)\n",
    "                                                                                                                 )\n",
    "                                                                                                          )\n",
    "                                                                                                   )\n",
    "                                                                                            )\n",
    "                                                                                     )\n",
    "                                                                              )\n",
    "                                                                       )\n",
    "                                                                )\n",
    "                                                         )\n",
    ")\n",
    ")\n",
    "\n",
    "\n",
    "\n",
    "AIdataset$hardware_yorn <- as.factor(ifelse(AIdataset$hardware_yorn %in% 'Y',1,\n",
    "                                            ifelse(AIdataset$hardware_yorn %in% 'N',0,\n",
    "                                                   ifelse(AIdataset$hardware_yorn %in%  c('null','N/A','NULL','UNKNOWN','Unknown'),0,\n",
    "                                                          99)\n",
    "                                            )\n",
    ")\n",
    ")\n",
    "\n",
    "AIdataset$service_offering <- ifelse(AIdataset$service_offering %in% 'COS-ESW',1,\n",
    "                                     ifelse(AIdataset$service_offering %in% 'COS-TP',2,\n",
    "                                            ifelse(AIdataset$service_offering %in% 'OEM DC',3,\n",
    "                                                   ifelse(AIdataset$service_offering %in% c('SUB-CONTENT','SUB-UCSS'),4,\n",
    "                                                          ifelse(AIdataset$service_offering %in% c('SVC-HW','SVC-OTHER','SVC-SW'),5,\n",
    "                                                                 ifelse(AIdataset$service_offering %in% 'SWSS',6,\n",
    "                                                                        ifelse(AIdataset$service_offering %in%  c('null','N/A','NULL'),0,\n",
    "                                                                               99)\n",
    "                                                                 )\n",
    "                                                          )\n",
    "                                                   )\n",
    "                                            )\n",
    "                                     )\n",
    ")\n",
    "\n",
    "AIdataset$service_sales_node_base_sub_scms_name <- as.factor(ifelse(AIdataset$service_sales_node_base_sub_scms_name %in% c('COM-MM','COM-OTHER','COM-PL-COM','COM-SB','COM-SMB','COM-SMB-S','COM-SMB-M'),1,\n",
    "                                                                    ifelse(AIdataset$service_sales_node_base_sub_scms_name %in% c('COMM_GEO_NAMED','COMM_GEO_NON_NAMED','COMM_PL','COMM_PL_S','COMM_SELECT'),2,\n",
    "                                                                           ifelse(AIdataset$service_sales_node_base_sub_scms_name %in% c('ENT-FINANCE','ENT-MFG','ENT-MFG-Automotive','ENT-MFG-Life Science','ENT-Oil','ENT-OTHER','ENT-Professional Services','ENT-RETAIL&TRANSP','ENT-TRANSPORT','ENT-Utilities','ENT - Energy & Material'),3,\n",
    "                                                                                  ifelse(AIdataset$service_sales_node_base_sub_scms_name %in% c('COMM_TERRITORY_LG','COMM_TERRITORY_SM'),4,\n",
    "                                                                                         ifelse(AIdataset$service_sales_node_base_sub_scms_name %in%  c('OTHER','PS-EDUCATION','PS-OTHER','SMB-OTHER','SP-MAJOR','SP-OTHER','SP-Tier1','SP-Tier2'),5,\n",
    "                                                                                                ifelse(AIdataset$service_sales_node_base_sub_scms_name %in%  c('null','N/A','NULL'),0,\n",
    "                                                                                                       99)\n",
    "                                                                                         )\n",
    "                                                                                  )\n",
    "                                                                           )\n",
    "                                                                    )\n",
    ")\n",
    ")\n",
    "\n",
    "AIdataset$business_unit <- NULL\n",
    "\n",
    "#table(AIdataset$product_type)\n",
    "\n",
    "AIdataset$product_type <- as.factor(ifelse(AIdataset$product_type %in% 'ACCESSORY',1,                                                                                              \n",
    "                                           ifelse(AIdataset$product_type %in% 'APPLIANCE',2,\n",
    "                                                  ifelse(AIdataset$product_type %in% 'APPSWIND',3,\n",
    "                                                         ifelse(AIdataset$product_type %in% 'ASSEMBLY',4,\n",
    "                                                                ifelse(AIdataset$product_type %in% 'BASE',5,\n",
    "                                                                       ifelse(AIdataset$product_type %in% 'BOARD',6,\n",
    "                                                                              ifelse(AIdataset$product_type %in% 'CABLE',7,\n",
    "                                                                                     ifelse(AIdataset$product_type %in% 'CHASSIS',8,\n",
    "                                                                                            ifelse(AIdataset$product_type %in% 'CONFIGSW',9,\n",
    "                                                                                                   ifelse(AIdataset$product_type %in% 'DEVICES',10,\n",
    "                                                                                                          ifelse(AIdataset$product_type %in% 'DOC',11,\n",
    "                                                                                                                 ifelse(AIdataset$product_type %in% 'FEATURE',12,\n",
    "                                                                                                                        ifelse(AIdataset$product_type %in% 'FUNCSYSTM',13,\n",
    "                                                                                                                               ifelse(AIdataset$product_type %in% 'GATEWAY',14,\n",
    "                                                                                                                                      ifelse(AIdataset$product_type %in% 'MEMORY',15,\n",
    "                                                                                                                                             ifelse(AIdataset$product_type %in% 'MULTIPROD',16,\n",
    "                                                                                                                                                    ifelse(AIdataset$product_type %in% 'PHONE',17,\n",
    "                                                                                                                                                           ifelse(AIdataset$product_type %in% 'POWER',18,\n",
    "                                                                                                                                                                  ifelse(AIdataset$product_type %in% 'ROUTER',19,\n",
    "                                                                                                                                                                         ifelse(AIdataset$product_type %in% 'SERVER',20,\n",
    "                                                                                                                                                                                ifelse(AIdataset$product_type %in% 'SERVRNC',21,\n",
    "                                                                                                                                                                                       ifelse(AIdataset$product_type %in% 'SWITCH',22,\n",
    "                                                                                                                                                                                              ifelse(AIdataset$product_type %in% c('null','N/A','NULL','UNKNOWN','Unknown'),0,\n",
    "                                                                                                                                                                                                     99)\n",
    "                                                                                                                                                                                       )\n",
    "                                                                                                                                                                                )\n",
    "                                                                                                                                                                         )\n",
    "                                                                                                                                                                  )\n",
    "                                                                                                                                                           )\n",
    "                                                                                                                                                    )\n",
    "                                                                                                                                             )\n",
    "                                                                                                                                      )\n",
    "                                                                                                                               )\n",
    "                                                                                                                        )\n",
    "                                                                                                                 )\n",
    "                                                                                                          )\n",
    "                                                                                                   )\n",
    "                                                                                            )\n",
    "                                                                                     )\n",
    "                                                                              )\n",
    "                                                                       )\n",
    "                                                                )\n",
    "                                                         )\n",
    "                                                  )\n",
    "                                           )\n",
    ")\n",
    ")\n",
    "\n",
    "AIdataset$monetization_type <- as.factor(ifelse(AIdataset$monetization_type %in% 'Perpetual',1,\n",
    "                                                ifelse(AIdataset$monetization_type %in% 'Term',2,\n",
    "                                                       ifelse(AIdataset$monetization_type %in%  c('null','N/A','NULL','UNKNOWN','Unknown'),0,\n",
    "                                                              99)\n",
    "                                                )\n",
    ")\n",
    ")\n",
    "\n",
    "AIdataset$product_category <- as.factor(ifelse(AIdataset$product_category %in% 'Hardware',1,\n",
    "                                               ifelse(AIdataset$product_category %in% 'HW Embedded with SW',2,\n",
    "                                                      ifelse(AIdataset$product_category %in% 'Software',3,\n",
    "                                                             ifelse(AIdataset$product_category %in%  c('null','N/A','NULL','UNKNOWN','Unknown'),0,\n",
    "                                                                    99)\n",
    "                                                      )\n",
    "                                               )\n",
    ")\n",
    ")\n",
    "\n",
    "\n",
    "\n",
    "\n",
    "AIdataset$software_usage_type <- as.factor(ifelse(AIdataset$software_usage_type %in% 'Hybrid',1,\n",
    "                                                  ifelse(AIdataset$software_usage_type %in% 'On-Premise',2,\n",
    "                                                         ifelse(AIdataset$software_usage_type %in% 'SaaS',3,\n",
    "                                                                ifelse(AIdataset$software_usage_type %in% 'System SW',4,\n",
    "                                                                       ifelse(AIdataset$software_usage_type %in%  c('null','N/A','NULL','UNKNOWN','Unknown'),0,\n",
    "                                                                              99)\n",
    "                                                                )\n",
    "                                                         )\n",
    "                                                  )\n",
    ")\n",
    ")\n",
    "\n",
    "\n",
    "AIdataset$service_fee_amount[AIdataset$service_fee_amount=='NULL'] <- 0\n",
    "\n",
    "AIdataset$service_fee_amount <- as.numeric(AIdataset$service_fee_amount)\n",
    "\n",
    "AIdataset$service_fee_amount <- scale(AIdataset$service_fee_amount)\n",
    "\n",
    "#AIdataset$service_fee_amount <- as.factor(AIdataset$service_fee_amount)  ### just added 5/12\n",
    "\n",
    "AIdataset$service_product_base_product_sub_group <- NULL\n",
    "\n",
    "\n",
    "AIdataset$four_quarter_bookings_band <- as.factor(ifelse(AIdataset$four_quarter_bookings_band %in% 'Tier <= $100k',1,                                                                                              \n",
    "                                                         ifelse(AIdataset$four_quarter_bookings_band %in% '$100k < Tier <= $250k',2,\n",
    "                                                                ifelse(AIdataset$four_quarter_bookings_band %in% '$250k < Tier <= $500k',3,\n",
    "                                                                       ifelse(AIdataset$four_quarter_bookings_band %in% '$500k < Tier <= $1m',4,\n",
    "                                                                              ifelse(AIdataset$four_quarter_bookings_band %in% '$1m < Tier <= $5m',5,\n",
    "                                                                                     ifelse(AIdataset$four_quarter_bookings_band %in% '$5m < Tier <= $10m',6,\n",
    "                                                                                            ifelse(AIdataset$four_quarter_bookings_band %in% '$10m < Tier <= $25m',7,\n",
    "                                                                                                   ifelse(AIdataset$four_quarter_bookings_band %in% '$25m < Tier <= $50m',8,\n",
    "                                                                                                          ifelse(AIdataset$four_quarter_bookings_band %in% 'Tier > $50m',9,\n",
    "                                                                                                                 ifelse(AIdataset$four_quarter_bookings_band %in% c('null','N/A','NULL','UNKNOWN','Unknown'),0,\n",
    "                                                                                                                        99)\n",
    "                                                                                                          )\n",
    "                                                                                                   )\n",
    "                                                                                            )\n",
    "                                                                                     )\n",
    "                                                                              )\n",
    "                                                                       )\n",
    "                                                                )\n",
    "                                                         )\n",
    ")\n",
    ")\n",
    "\n",
    "\n",
    "\n",
    "\n",
    "\n",
    "AIdataset$top_vertical_market_name <- as.factor(ifelse(AIdataset$top_vertical_market_name %in% 'Education- Public/Private',1,                                                                                              \n",
    "                                                       ifelse(AIdataset$top_vertical_market_name %in% 'Energy/Utilities',2,\n",
    "                                                              ifelse(AIdataset$top_vertical_market_name %in% 'Financial Services',3,\n",
    "                                                                     ifelse(AIdataset$top_vertical_market_name %in% 'Government',4,\n",
    "                                                                            ifelse(AIdataset$top_vertical_market_name %in% 'Health Care',5,\n",
    "                                                                                   ifelse(AIdataset$top_vertical_market_name %in% 'Hospitality/Hotels & Leisure',6,\n",
    "                                                                                          ifelse(AIdataset$top_vertical_market_name %in% 'Manufacturing',7,\n",
    "                                                                                                 ifelse(AIdataset$top_vertical_market_name %in% 'Media/Entertainment',8,\n",
    "                                                                                                        ifelse(AIdataset$top_vertical_market_name %in% c('Professional Services','Service Provider'),9,\n",
    "                                                                                                               ifelse(AIdataset$top_vertical_market_name %in% 'Retail',10,\n",
    "                                                                                                                      ifelse(AIdataset$top_vertical_market_name %in% 'Technical Services',11,\n",
    "                                                                                                                             ifelse(AIdataset$top_vertical_market_name %in% 'Transportation',12,\n",
    "                                                                                                                                    ifelse(AIdataset$top_vertical_market_name %in% 'Wholesale/Distribution',13,\n",
    "                                                                                                                                           ifelse(AIdataset$top_vertical_market_name %in% c('null','N/A','NULL','UNKNOWN','Unknown'),0,\n",
    "                                                                                                                                                  99)\n",
    "                                                                                                                                    )\n",
    "                                                                                                                             )\n",
    "                                                                                                                      )\n",
    "                                                                                                               )\n",
    "                                                                                                        )\n",
    "                                                                                                 )\n",
    "                                                                                          )\n",
    "                                                                                   )\n",
    "                                                                            )\n",
    "                                                                     )\n",
    "                                                              )\n",
    "                                                       )\n",
    ")\n",
    ")\n"
   ]
  },
  {
   "cell_type": "code",
   "execution_count": 293,
   "metadata": {},
   "outputs": [
    {
     "data": {
      "text/plain": [
       " innovation_challenge_key renewed_yorn       installed_product_type\n",
       " Min.   :     78          Length:10139       1:4781                \n",
       " 1st Qu.:1122064          Class :character   2:5358                \n",
       " Median :3320860          Mode  :character                         \n",
       " Mean   :3426228                                                   \n",
       " 3rd Qu.:5599858                                                   \n",
       " Max.   :7896509                                                   \n",
       "                                                                   \n",
       " component_type service_contract_classification service_contract_process_type\n",
       " 1:8745         0:9397                          0:4372                       \n",
       " 2: 887         1: 227                          1:  31                       \n",
       " 3:   5         2: 159                          5:5734                       \n",
       " 4: 502         3: 356                          6:   2                       \n",
       "                                                                             \n",
       "                                                                             \n",
       "                                                                             \n",
       " contract_line_multi_year_discount_yorn contract_line_route_to_market_code\n",
       " 0:9272                                 1:9898                            \n",
       " 1: 867                                 2: 171                            \n",
       "                                        3:  70                            \n",
       "                                                                          \n",
       "                                                                          \n",
       "                                                                          \n",
       "                                                                          \n",
       " product_sales_channel_code hardware_yorn service_offering\n",
       " 0      :3965               0:2500        Min.   :0.000   \n",
       " 8      :3916               1:7639        1st Qu.:0.000   \n",
       " 2      : 580                             Median :0.000   \n",
       " 3      : 574                             Mean   :1.061   \n",
       " 4      : 380                             3rd Qu.:0.000   \n",
       " 5      : 265                             Max.   :6.000   \n",
       " (Other): 459                                             \n",
       " service_sales_node_base_sub_scms_name  product_type  monetization_type\n",
       " 1:3223                                15     :1669   0:7505           \n",
       " 2:5152                                5      :1247   1:2590           \n",
       " 3: 177                                10     :1034   2:  44           \n",
       " 5:1587                                4      : 980                    \n",
       "                                       3      : 925                    \n",
       "                                       6      : 835                    \n",
       "                                       (Other):3449                    \n",
       " product_category software_usage_type service_fee_amount.V1\n",
       " 0:  42           0:7505              Min.   :-0.12673     \n",
       " 1:7465           1:  11              1st Qu.:-0.12673     \n",
       " 2: 439           2:1148              Median :-0.12673     \n",
       " 3:2193           3:  26              Mean   : 0.00000     \n",
       "                  4:1449              3rd Qu.:-0.12673     \n",
       "                                      Max.   :33.49280     \n",
       "                                                           \n",
       " four_quarter_bookings_band top_vertical_market_name\n",
       " 5      :3255               3      :1493            \n",
       " 2      :1538               9      :1477            \n",
       " 1      :1377               10     :1365            \n",
       " 3      :1261               7      :1215            \n",
       " 6      : 902               5      : 921            \n",
       " 4      : 659               8      : 835            \n",
       " (Other):1147               (Other):2833            "
      ]
     },
     "metadata": {},
     "output_type": "display_data"
    }
   ],
   "source": [
    "summary(AIdataset)"
   ]
  },
  {
   "cell_type": "code",
   "execution_count": 294,
   "metadata": {},
   "outputs": [],
   "source": [
    "# filter null renewed_yorn data for test\n",
    "\n",
    "#TestAIDataset <- AIdataset[AIdataset$renewed_yorn=='null',]\n",
    "\n",
    "dataset <- AIdataset[AIdataset$renewed_yorn !='null',]"
   ]
  },
  {
   "cell_type": "code",
   "execution_count": 295,
   "metadata": {},
   "outputs": [
    {
     "data": {
      "text/html": [
       "<dl class=dl-horizontal>\n",
       "\t<dt>innovation_challenge_key</dt>\n",
       "\t\t<dd>'integer'</dd>\n",
       "\t<dt>renewed_yorn</dt>\n",
       "\t\t<dd>'character'</dd>\n",
       "\t<dt>installed_product_type</dt>\n",
       "\t\t<dd>'factor'</dd>\n",
       "\t<dt>component_type</dt>\n",
       "\t\t<dd>'factor'</dd>\n",
       "\t<dt>service_contract_classification</dt>\n",
       "\t\t<dd>'factor'</dd>\n",
       "\t<dt>service_contract_process_type</dt>\n",
       "\t\t<dd>'factor'</dd>\n",
       "\t<dt>contract_line_multi_year_discount_yorn</dt>\n",
       "\t\t<dd>'factor'</dd>\n",
       "\t<dt>contract_line_route_to_market_code</dt>\n",
       "\t\t<dd>'factor'</dd>\n",
       "\t<dt>product_sales_channel_code</dt>\n",
       "\t\t<dd>'factor'</dd>\n",
       "\t<dt>hardware_yorn</dt>\n",
       "\t\t<dd>'factor'</dd>\n",
       "\t<dt>service_offering</dt>\n",
       "\t\t<dd>'numeric'</dd>\n",
       "\t<dt>service_sales_node_base_sub_scms_name</dt>\n",
       "\t\t<dd>'factor'</dd>\n",
       "\t<dt>product_type</dt>\n",
       "\t\t<dd>'factor'</dd>\n",
       "\t<dt>monetization_type</dt>\n",
       "\t\t<dd>'factor'</dd>\n",
       "\t<dt>product_category</dt>\n",
       "\t\t<dd>'factor'</dd>\n",
       "\t<dt>software_usage_type</dt>\n",
       "\t\t<dd>'factor'</dd>\n",
       "\t<dt>service_fee_amount</dt>\n",
       "\t\t<dd>'numeric'</dd>\n",
       "\t<dt>four_quarter_bookings_band</dt>\n",
       "\t\t<dd>'factor'</dd>\n",
       "\t<dt>top_vertical_market_name</dt>\n",
       "\t\t<dd>'factor'</dd>\n",
       "</dl>\n"
      ],
      "text/latex": [
       "\\begin{description*}\n",
       "\\item[innovation\\textbackslash{}\\_challenge\\textbackslash{}\\_key] 'integer'\n",
       "\\item[renewed\\textbackslash{}\\_yorn] 'character'\n",
       "\\item[installed\\textbackslash{}\\_product\\textbackslash{}\\_type] 'factor'\n",
       "\\item[component\\textbackslash{}\\_type] 'factor'\n",
       "\\item[service\\textbackslash{}\\_contract\\textbackslash{}\\_classification] 'factor'\n",
       "\\item[service\\textbackslash{}\\_contract\\textbackslash{}\\_process\\textbackslash{}\\_type] 'factor'\n",
       "\\item[contract\\textbackslash{}\\_line\\textbackslash{}\\_multi\\textbackslash{}\\_year\\textbackslash{}\\_discount\\textbackslash{}\\_yorn] 'factor'\n",
       "\\item[contract\\textbackslash{}\\_line\\textbackslash{}\\_route\\textbackslash{}\\_to\\textbackslash{}\\_market\\textbackslash{}\\_code] 'factor'\n",
       "\\item[product\\textbackslash{}\\_sales\\textbackslash{}\\_channel\\textbackslash{}\\_code] 'factor'\n",
       "\\item[hardware\\textbackslash{}\\_yorn] 'factor'\n",
       "\\item[service\\textbackslash{}\\_offering] 'numeric'\n",
       "\\item[service\\textbackslash{}\\_sales\\textbackslash{}\\_node\\textbackslash{}\\_base\\textbackslash{}\\_sub\\textbackslash{}\\_scms\\textbackslash{}\\_name] 'factor'\n",
       "\\item[product\\textbackslash{}\\_type] 'factor'\n",
       "\\item[monetization\\textbackslash{}\\_type] 'factor'\n",
       "\\item[product\\textbackslash{}\\_category] 'factor'\n",
       "\\item[software\\textbackslash{}\\_usage\\textbackslash{}\\_type] 'factor'\n",
       "\\item[service\\textbackslash{}\\_fee\\textbackslash{}\\_amount] 'numeric'\n",
       "\\item[four\\textbackslash{}\\_quarter\\textbackslash{}\\_bookings\\textbackslash{}\\_band] 'factor'\n",
       "\\item[top\\textbackslash{}\\_vertical\\textbackslash{}\\_market\\textbackslash{}\\_name] 'factor'\n",
       "\\end{description*}\n"
      ],
      "text/markdown": [
       "innovation_challenge_key\n",
       ":   'integer'renewed_yorn\n",
       ":   'character'installed_product_type\n",
       ":   'factor'component_type\n",
       ":   'factor'service_contract_classification\n",
       ":   'factor'service_contract_process_type\n",
       ":   'factor'contract_line_multi_year_discount_yorn\n",
       ":   'factor'contract_line_route_to_market_code\n",
       ":   'factor'product_sales_channel_code\n",
       ":   'factor'hardware_yorn\n",
       ":   'factor'service_offering\n",
       ":   'numeric'service_sales_node_base_sub_scms_name\n",
       ":   'factor'product_type\n",
       ":   'factor'monetization_type\n",
       ":   'factor'product_category\n",
       ":   'factor'software_usage_type\n",
       ":   'factor'service_fee_amount\n",
       ":   'numeric'four_quarter_bookings_band\n",
       ":   'factor'top_vertical_market_name\n",
       ":   'factor'\n",
       "\n"
      ],
      "text/plain": [
       "              innovation_challenge_key                           renewed_yorn \n",
       "                             \"integer\"                            \"character\" \n",
       "                installed_product_type                         component_type \n",
       "                              \"factor\"                               \"factor\" \n",
       "       service_contract_classification          service_contract_process_type \n",
       "                              \"factor\"                               \"factor\" \n",
       "contract_line_multi_year_discount_yorn     contract_line_route_to_market_code \n",
       "                              \"factor\"                               \"factor\" \n",
       "            product_sales_channel_code                          hardware_yorn \n",
       "                              \"factor\"                               \"factor\" \n",
       "                      service_offering  service_sales_node_base_sub_scms_name \n",
       "                             \"numeric\"                               \"factor\" \n",
       "                          product_type                      monetization_type \n",
       "                              \"factor\"                               \"factor\" \n",
       "                      product_category                    software_usage_type \n",
       "                              \"factor\"                               \"factor\" \n",
       "                    service_fee_amount             four_quarter_bookings_band \n",
       "                             \"numeric\"                               \"factor\" \n",
       "              top_vertical_market_name \n",
       "                              \"factor\" "
      ]
     },
     "metadata": {},
     "output_type": "display_data"
    }
   ],
   "source": [
    "sapply(dataset,class)"
   ]
  },
  {
   "cell_type": "code",
   "execution_count": 296,
   "metadata": {},
   "outputs": [
    {
     "data": {
      "image/png": "[encoded data removed]",
      "text/plain": [
       "plot without title"
      ]
     },
     "metadata": {},
     "output_type": "display_data"
    },
    {
     "data": {
      "image/png": "[encoded data removed]",
      "text/plain": [
       "plot without title"
      ]
     },
     "metadata": {},
     "output_type": "display_data"
    },
    {
     "data": {
      "image/png": "[encoded data removed]",
      "text/plain": [
       "plot without title"
      ]
     },
     "metadata": {},
     "output_type": "display_data"
    }
   ],
   "source": [
    "# ####### ****************************************************************************************************************\n",
    "datasetGraph <- dataset\n",
    "#\n",
    "#par(mfrow=c(2,2))\n",
    "\n",
    "#dev.copy(png,'postdataProcessing.png')\n",
    "\n",
    "p1 <- ggplot(datasetGraph,aes(renewed_yorn)) + geom_bar() + geom_bar(aes(fill=renewed_yorn),color=\"black\")\n",
    "p2 <- ggplot(datasetGraph,aes(installed_product_type)) + geom_bar() + geom_bar(aes(fill=renewed_yorn),color=\"black\")\n",
    "p3 <- ggplot(datasetGraph,aes(component_type)) + geom_bar() + geom_bar(aes(fill=renewed_yorn),color=\"black\")\n",
    "p4 <- ggplot(datasetGraph,aes(service_contract_classification)) +\n",
    "      geom_bar() +\n",
    "      geom_bar(aes(fill=renewed_yorn),color=\"black\")\n",
    "p5 <- ggplot(datasetGraph,aes(service_contract_process_type)) + geom_bar() + geom_bar(aes(fill=renewed_yorn),color=\"black\")\n",
    "p6 <- ggplot(datasetGraph,aes(contract_line_multi_year_discount_yorn)) +\n",
    "      geom_bar() +\n",
    "      geom_bar(aes(fill=renewed_yorn),color=\"black\")\n",
    "\n",
    "grid.arrange(p1,p2,p3,p4,p5,p6, ncol=2,nrow=3)\n",
    "\n",
    "#grid.arrange(p1,p2,p3,p4, ncol=2,nrow=2)\n",
    "\n",
    "#grid.arrange(p1,p2,p3,p4, ncol=2,nrow=2, top=textGrob(\"AI innovation Plots\", gp=gpar(fontsize=12, font = 2)))\n",
    "\n",
    "p7 <- ggplot(datasetGraph,aes(contract_line_route_to_market_code)) + geom_bar() + geom_bar(aes(fill=renewed_yorn),color=\"black\")\n",
    "p8 <- ggplot(datasetGraph,aes(product_sales_channel_code)) + geom_bar() + geom_bar(aes(fill=renewed_yorn),color=\"black\")\n",
    "#grid.arrange(p5,p6,p7,p8, ncol=2,nrow=2)\n",
    "p9 <- ggplot(datasetGraph,aes(hardware_yorn)) + geom_bar() + geom_bar(aes(fill=renewed_yorn),color=\"black\")\n",
    "p10 <- ggplot(datasetGraph,aes(service_offering)) + geom_bar() + geom_bar(aes(fill=renewed_yorn),color=\"black\")\n",
    "p11 <- ggplot(datasetGraph,aes(service_sales_node_base_sub_scms_name)) + geom_bar() + geom_bar(aes(fill=renewed_yorn),color=\"black\")\n",
    "#p12 <- ggplot(datasetGraph,aes(business_unit)) + geom_bar() + geom_bar(aes(fill=renewed_yorn),color=\"black\")\n",
    "p12 <- ggplot(datasetGraph)\n",
    "p13 <- ggplot(datasetGraph,aes(product_type)) + geom_bar() + geom_bar(aes(fill=renewed_yorn),color=\"black\")\n",
    "#grid.arrange(p9,p10,p11,p12, ncol=2,nrow=2)\n",
    "\n",
    "grid.arrange(p7,p8,p9,p10,p11,p13, ncol=2,nrow=3)\n",
    "\n",
    "#p13 <- ggplot(datasetGraph,aes(product_type)) + geom_bar() + geom_bar(aes(fill=renewed_yorn),color=\"black\")\n",
    "p14 <- ggplot(datasetGraph,aes(monetization_type)) + geom_bar() + geom_bar(aes(fill=renewed_yorn),color=\"black\")\n",
    "p15 <- ggplot(datasetGraph,aes(product_category)) + geom_bar() + geom_bar(aes(fill=renewed_yorn),color=\"black\")\n",
    "p16 <- ggplot(datasetGraph,aes(software_usage_type)) + geom_bar() + geom_bar(aes(fill=renewed_yorn),color=\"black\")\n",
    "#grid.arrange(p13,p14,p15,p16, ncol=2,nrow=2)\n",
    "p17 <- ggplot(datasetGraph,aes(service_fee_amount)) + geom_bar() + geom_bar(aes(fill=renewed_yorn),color=\"black\")\n",
    "p18 <- ggplot(datasetGraph) #+ geom_bar() + geom_bar(aes(fill=renewed_yorn),color=\"black\")\n",
    "#p18 <- ggplot(datasetGraph,aes(service_product_base_product_sub_group)) + geom_bar() + geom_bar(aes(fill=renewed_yorn),color=\"black\")\n",
    "\n",
    "#grid.arrange(p7,p8,p9,p10,p11, ncol=3,nrow=2)\n",
    "p19 <- ggplot(datasetGraph,aes(four_quarter_bookings_band)) + geom_bar() + geom_bar(aes(fill=renewed_yorn),color=\"black\")\n",
    "p20 <- ggplot(datasetGraph,aes(top_vertical_market_name)) + geom_bar() + geom_bar(aes(fill=renewed_yorn),color=\"black\")\n",
    "\n",
    "#grid.arrange(p17,p18,p19,p20, ncol=2,nrow=2)\n",
    "\n",
    "grid.arrange(p14,p15,p16,p17,p19,p20, ncol=2,nrow=3)\n",
    "\n",
    "#dev.off()\n",
    " #remove(p1,p2,p3,p4,p5,p6,p7,p8,p9,p10,p11,p12,p13,p14,p15,p16,p17,p18,p19,p20)"
   ]
  },
  {
   "cell_type": "code",
   "execution_count": 297,
   "metadata": {},
   "outputs": [
    {
     "data": {
      "text/html": [
       "<table>\n",
       "<thead><tr><th></th><th scope=col>freq</th><th scope=col>percentage</th></tr></thead>\n",
       "<tbody>\n",
       "\t<tr><th scope=row>N</th><td>2101    </td><td>24.35942</td></tr>\n",
       "\t<tr><th scope=row>Y</th><td>6524    </td><td>75.64058</td></tr>\n",
       "</tbody>\n",
       "</table>\n"
      ],
      "text/latex": [
       "\\begin{tabular}{r|ll}\n",
       "  & freq & percentage\\\\\n",
       "\\hline\n",
       "\tN & 2101     & 24.35942\\\\\n",
       "\tY & 6524     & 75.64058\\\\\n",
       "\\end{tabular}\n"
      ],
      "text/markdown": [
       "\n",
       "| <!--/--> | freq | percentage | \n",
       "|---|---|\n",
       "| N | 2101     | 24.35942 | \n",
       "| Y | 6524     | 75.64058 | \n",
       "\n",
       "\n"
      ],
      "text/plain": [
       "  freq percentage\n",
       "N 2101 24.35942  \n",
       "Y 6524 75.64058  "
      ]
     },
     "metadata": {},
     "output_type": "display_data"
    }
   ],
   "source": [
    "ClassDistribution <- cbind(freq=table(dataset$renewed_yorn), percentage=prop.table(table(dataset$renewed_yorn))*100)\n",
    "ClassDistribution"
   ]
  },
  {
   "cell_type": "code",
   "execution_count": 298,
   "metadata": {},
   "outputs": [
    {
     "name": "stdout",
     "output_type": "stream",
     "text": [
      "  freq percentage\n",
      "N 2101   24.35942\n",
      "Y 6524   75.64058\n"
     ]
    }
   ],
   "source": [
    "# remove duplicate\n",
    "\n",
    "dataset <- dataset[!duplicated(dataset),] # commented just now Ajay\n",
    "\n",
    "print(cbind(freq=table(dataset$renewed_yorn), percentage=prop.table(table(dataset$renewed_yorn))*100))\n",
    "\n"
   ]
  },
  {
   "cell_type": "code",
   "execution_count": 299,
   "metadata": {},
   "outputs": [
    {
     "name": "stdout",
     "output_type": "stream",
     "text": [
      "  freq percentage\n",
      "N 4202   39.17583\n",
      "Y 6524   60.82417\n"
     ]
    }
   ],
   "source": [
    "# # fixing impalance data\n",
    "#\n",
    " duplicateLabel <- function(dataset, label ='renewed_yorn', val ='N', reps =1){\n",
    "   temp <- dataset[dataset[,label] == val, ]\n",
    "   for(i in 1: reps){\n",
    "     dataset <- rbind(dataset,temp)\n",
    "   }\n",
    "   dataset\n",
    " }\n",
    "#\n",
    " dataset <- duplicateLabel(dataset)\n",
    "#\n",
    "print(cbind(freq=table(dataset$renewed_yorn), percentage=prop.table(table(dataset$renewed_yorn))*100))"
   ]
  },
  {
   "cell_type": "code",
   "execution_count": null,
   "metadata": {},
   "outputs": [],
   "source": []
  },
  {
   "cell_type": "code",
   "execution_count": 300,
   "metadata": {},
   "outputs": [
    {
     "data": {
      "text/html": [
       "<ol class=list-inline>\n",
       "\t<li>'innovation_challenge_key'</li>\n",
       "\t<li>'renewed_yorn'</li>\n",
       "\t<li>'top_vertical_market_name'</li>\n",
       "\t<li>'four_quarter_bookings_band'</li>\n",
       "\t<li>'service_fee_amount'</li>\n",
       "\t<li>'software_usage_type'</li>\n",
       "\t<li>'product_type'</li>\n",
       "\t<li>'service_sales_node_base_sub_scms_name'</li>\n",
       "\t<li>'product_sales_channel_code'</li>\n",
       "\t<li>'contract_line_multi_year_discount_yorn'</li>\n",
       "\t<li>'service_contract_classification'</li>\n",
       "\t<li>'installed_product_type'</li>\n",
       "</ol>\n"
      ],
      "text/latex": [
       "\\begin{enumerate*}\n",
       "\\item 'innovation\\_challenge\\_key'\n",
       "\\item 'renewed\\_yorn'\n",
       "\\item 'top\\_vertical\\_market\\_name'\n",
       "\\item 'four\\_quarter\\_bookings\\_band'\n",
       "\\item 'service\\_fee\\_amount'\n",
       "\\item 'software\\_usage\\_type'\n",
       "\\item 'product\\_type'\n",
       "\\item 'service\\_sales\\_node\\_base\\_sub\\_scms\\_name'\n",
       "\\item 'product\\_sales\\_channel\\_code'\n",
       "\\item 'contract\\_line\\_multi\\_year\\_discount\\_yorn'\n",
       "\\item 'service\\_contract\\_classification'\n",
       "\\item 'installed\\_product\\_type'\n",
       "\\end{enumerate*}\n"
      ],
      "text/markdown": [
       "1. 'innovation_challenge_key'\n",
       "2. 'renewed_yorn'\n",
       "3. 'top_vertical_market_name'\n",
       "4. 'four_quarter_bookings_band'\n",
       "5. 'service_fee_amount'\n",
       "6. 'software_usage_type'\n",
       "7. 'product_type'\n",
       "8. 'service_sales_node_base_sub_scms_name'\n",
       "9. 'product_sales_channel_code'\n",
       "10. 'contract_line_multi_year_discount_yorn'\n",
       "11. 'service_contract_classification'\n",
       "12. 'installed_product_type'\n",
       "\n",
       "\n"
      ],
      "text/plain": [
       " [1] \"innovation_challenge_key\"              \n",
       " [2] \"renewed_yorn\"                          \n",
       " [3] \"top_vertical_market_name\"              \n",
       " [4] \"four_quarter_bookings_band\"            \n",
       " [5] \"service_fee_amount\"                    \n",
       " [6] \"software_usage_type\"                   \n",
       " [7] \"product_type\"                          \n",
       " [8] \"service_sales_node_base_sub_scms_name\" \n",
       " [9] \"product_sales_channel_code\"            \n",
       "[10] \"contract_line_multi_year_discount_yorn\"\n",
       "[11] \"service_contract_classification\"       \n",
       "[12] \"installed_product_type\"                "
      ]
     },
     "metadata": {},
     "output_type": "display_data"
    }
   ],
   "source": [
    "# Final selected column\n",
    "FinalTestColumnsSelected <- c('innovation_challenge_key','renewed_yorn','top_vertical_market_name','four_quarter_bookings_band','service_fee_amount','software_usage_type',\n",
    "                              'product_type','service_sales_node_base_sub_scms_name','product_sales_channel_code','contract_line_multi_year_discount_yorn',\n",
    "                              'service_contract_classification','installed_product_type')\n",
    "\n",
    "FinalTestColumnsSelected"
   ]
  },
  {
   "cell_type": "code",
   "execution_count": 301,
   "metadata": {},
   "outputs": [],
   "source": [
    "dataset <- dataset[FinalTestColumnsSelected]"
   ]
  },
  {
   "cell_type": "code",
   "execution_count": 302,
   "metadata": {},
   "outputs": [],
   "source": [
    "# changing datatype\n",
    "dataset$top_vertical_market_name <- as.numeric(dataset$top_vertical_market_name)\n",
    "dataset$four_quarter_bookings_band <- as.numeric(dataset$four_quarter_bookings_band)\n",
    "dataset$service_fee_amount <- as.numeric(dataset$service_fee_amount)\n",
    "dataset$software_usage_type <- as.numeric(dataset$software_usage_type)\n",
    "dataset$product_type <- as.numeric(dataset$product_type)\n",
    "dataset$service_sales_node_base_sub_scms_name <- as.numeric(dataset$service_sales_node_base_sub_scms_name)\n",
    "dataset$product_sales_channel_code <- as.numeric(dataset$product_sales_channel_code)\n",
    "dataset$contract_line_multi_year_discount_yorn <- as.numeric(dataset$contract_line_multi_year_discount_yorn)\n",
    "dataset$service_contract_classification <- as.numeric(dataset$service_contract_classification)\n",
    "dataset$installed_product_type <- as.numeric(dataset$installed_product_type)"
   ]
  },
  {
   "cell_type": "code",
   "execution_count": 303,
   "metadata": {},
   "outputs": [
    {
     "data": {
      "text/html": [
       "<dl class=dl-horizontal>\n",
       "\t<dt>innovation_challenge_key</dt>\n",
       "\t\t<dd>'integer'</dd>\n",
       "\t<dt>renewed_yorn</dt>\n",
       "\t\t<dd>'character'</dd>\n",
       "\t<dt>top_vertical_market_name</dt>\n",
       "\t\t<dd>'numeric'</dd>\n",
       "\t<dt>four_quarter_bookings_band</dt>\n",
       "\t\t<dd>'numeric'</dd>\n",
       "\t<dt>service_fee_amount</dt>\n",
       "\t\t<dd>'numeric'</dd>\n",
       "\t<dt>software_usage_type</dt>\n",
       "\t\t<dd>'numeric'</dd>\n",
       "\t<dt>product_type</dt>\n",
       "\t\t<dd>'numeric'</dd>\n",
       "\t<dt>service_sales_node_base_sub_scms_name</dt>\n",
       "\t\t<dd>'numeric'</dd>\n",
       "\t<dt>product_sales_channel_code</dt>\n",
       "\t\t<dd>'numeric'</dd>\n",
       "\t<dt>contract_line_multi_year_discount_yorn</dt>\n",
       "\t\t<dd>'numeric'</dd>\n",
       "\t<dt>service_contract_classification</dt>\n",
       "\t\t<dd>'numeric'</dd>\n",
       "\t<dt>installed_product_type</dt>\n",
       "\t\t<dd>'numeric'</dd>\n",
       "</dl>\n"
      ],
      "text/latex": [
       "\\begin{description*}\n",
       "\\item[innovation\\textbackslash{}\\_challenge\\textbackslash{}\\_key] 'integer'\n",
       "\\item[renewed\\textbackslash{}\\_yorn] 'character'\n",
       "\\item[top\\textbackslash{}\\_vertical\\textbackslash{}\\_market\\textbackslash{}\\_name] 'numeric'\n",
       "\\item[four\\textbackslash{}\\_quarter\\textbackslash{}\\_bookings\\textbackslash{}\\_band] 'numeric'\n",
       "\\item[service\\textbackslash{}\\_fee\\textbackslash{}\\_amount] 'numeric'\n",
       "\\item[software\\textbackslash{}\\_usage\\textbackslash{}\\_type] 'numeric'\n",
       "\\item[product\\textbackslash{}\\_type] 'numeric'\n",
       "\\item[service\\textbackslash{}\\_sales\\textbackslash{}\\_node\\textbackslash{}\\_base\\textbackslash{}\\_sub\\textbackslash{}\\_scms\\textbackslash{}\\_name] 'numeric'\n",
       "\\item[product\\textbackslash{}\\_sales\\textbackslash{}\\_channel\\textbackslash{}\\_code] 'numeric'\n",
       "\\item[contract\\textbackslash{}\\_line\\textbackslash{}\\_multi\\textbackslash{}\\_year\\textbackslash{}\\_discount\\textbackslash{}\\_yorn] 'numeric'\n",
       "\\item[service\\textbackslash{}\\_contract\\textbackslash{}\\_classification] 'numeric'\n",
       "\\item[installed\\textbackslash{}\\_product\\textbackslash{}\\_type] 'numeric'\n",
       "\\end{description*}\n"
      ],
      "text/markdown": [
       "innovation_challenge_key\n",
       ":   'integer'renewed_yorn\n",
       ":   'character'top_vertical_market_name\n",
       ":   'numeric'four_quarter_bookings_band\n",
       ":   'numeric'service_fee_amount\n",
       ":   'numeric'software_usage_type\n",
       ":   'numeric'product_type\n",
       ":   'numeric'service_sales_node_base_sub_scms_name\n",
       ":   'numeric'product_sales_channel_code\n",
       ":   'numeric'contract_line_multi_year_discount_yorn\n",
       ":   'numeric'service_contract_classification\n",
       ":   'numeric'installed_product_type\n",
       ":   'numeric'\n",
       "\n"
      ],
      "text/plain": [
       "              innovation_challenge_key                           renewed_yorn \n",
       "                             \"integer\"                            \"character\" \n",
       "              top_vertical_market_name             four_quarter_bookings_band \n",
       "                             \"numeric\"                              \"numeric\" \n",
       "                    service_fee_amount                    software_usage_type \n",
       "                             \"numeric\"                              \"numeric\" \n",
       "                          product_type  service_sales_node_base_sub_scms_name \n",
       "                             \"numeric\"                              \"numeric\" \n",
       "            product_sales_channel_code contract_line_multi_year_discount_yorn \n",
       "                             \"numeric\"                              \"numeric\" \n",
       "       service_contract_classification                 installed_product_type \n",
       "                             \"numeric\"                              \"numeric\" "
      ]
     },
     "metadata": {},
     "output_type": "display_data"
    }
   ],
   "source": [
    "sapply(dataset, class)"
   ]
  },
  {
   "cell_type": "code",
   "execution_count": 304,
   "metadata": {},
   "outputs": [],
   "source": [
    "### Training & test dataset\n",
    "\n",
    "set.seed(123)   \n",
    "\n",
    "split = sample.split(dataset$renewed_yorn, SplitRatio = 0.75)\n",
    "#split = sample.split(dataset$renewed_yorn, SplitRatio = 0.98)\n",
    "training_set = subset(dataset, split == TRUE)\n",
    "test_set = subset(dataset, split == FALSE)\n"
   ]
  },
  {
   "cell_type": "code",
   "execution_count": 305,
   "metadata": {},
   "outputs": [
    {
     "data": {
      "text/html": [
       "<table>\n",
       "<thead><tr><th scope=col>innovation_challenge_key</th><th scope=col>renewed_yorn</th><th scope=col>top_vertical_market_name</th><th scope=col>four_quarter_bookings_band</th><th scope=col>service_fee_amount</th><th scope=col>software_usage_type</th><th scope=col>product_type</th><th scope=col>service_sales_node_base_sub_scms_name</th><th scope=col>product_sales_channel_code</th><th scope=col>contract_line_multi_year_discount_yorn</th><th scope=col>service_contract_classification</th><th scope=col>installed_product_type</th></tr></thead>\n",
       "<tbody>\n",
       "\t<tr><td>6019776   </td><td>N         </td><td>8         </td><td>4         </td><td>-0.1267286</td><td>3         </td><td>3         </td><td>2         </td><td>9         </td><td>1         </td><td>1         </td><td>2         </td></tr>\n",
       "\t<tr><td>4366777   </td><td>N         </td><td>8         </td><td>4         </td><td>-0.1267286</td><td>3         </td><td>3         </td><td>2         </td><td>9         </td><td>1         </td><td>1         </td><td>1         </td></tr>\n",
       "\t<tr><td>7840051   </td><td>N         </td><td>8         </td><td>4         </td><td>-0.1267286</td><td>3         </td><td>3         </td><td>2         </td><td>9         </td><td>1         </td><td>1         </td><td>1         </td></tr>\n",
       "\t<tr><td>6421723   </td><td>N         </td><td>8         </td><td>4         </td><td>-0.1267286</td><td>4         </td><td>3         </td><td>2         </td><td>9         </td><td>1         </td><td>1         </td><td>1         </td></tr>\n",
       "\t<tr><td> 406430   </td><td>N         </td><td>8         </td><td>4         </td><td>-0.1267286</td><td>3         </td><td>3         </td><td>2         </td><td>9         </td><td>1         </td><td>1         </td><td>1         </td></tr>\n",
       "\t<tr><td>5468976   </td><td>N         </td><td>8         </td><td>4         </td><td>-0.1267286</td><td>3         </td><td>3         </td><td>2         </td><td>9         </td><td>1         </td><td>1         </td><td>1         </td></tr>\n",
       "</tbody>\n",
       "</table>\n"
      ],
      "text/latex": [
       "\\begin{tabular}{r|llllllllllll}\n",
       " innovation\\_challenge\\_key & renewed\\_yorn & top\\_vertical\\_market\\_name & four\\_quarter\\_bookings\\_band & service\\_fee\\_amount & software\\_usage\\_type & product\\_type & service\\_sales\\_node\\_base\\_sub\\_scms\\_name & product\\_sales\\_channel\\_code & contract\\_line\\_multi\\_year\\_discount\\_yorn & service\\_contract\\_classification & installed\\_product\\_type\\\\\n",
       "\\hline\n",
       "\t 6019776    & N          & 8          & 4          & -0.1267286 & 3          & 3          & 2          & 9          & 1          & 1          & 2         \\\\\n",
       "\t 4366777    & N          & 8          & 4          & -0.1267286 & 3          & 3          & 2          & 9          & 1          & 1          & 1         \\\\\n",
       "\t 7840051    & N          & 8          & 4          & -0.1267286 & 3          & 3          & 2          & 9          & 1          & 1          & 1         \\\\\n",
       "\t 6421723    & N          & 8          & 4          & -0.1267286 & 4          & 3          & 2          & 9          & 1          & 1          & 1         \\\\\n",
       "\t  406430    & N          & 8          & 4          & -0.1267286 & 3          & 3          & 2          & 9          & 1          & 1          & 1         \\\\\n",
       "\t 5468976    & N          & 8          & 4          & -0.1267286 & 3          & 3          & 2          & 9          & 1          & 1          & 1         \\\\\n",
       "\\end{tabular}\n"
      ],
      "text/markdown": [
       "\n",
       "innovation_challenge_key | renewed_yorn | top_vertical_market_name | four_quarter_bookings_band | service_fee_amount | software_usage_type | product_type | service_sales_node_base_sub_scms_name | product_sales_channel_code | contract_line_multi_year_discount_yorn | service_contract_classification | installed_product_type | \n",
       "|---|---|---|---|---|---|\n",
       "| 6019776    | N          | 8          | 4          | -0.1267286 | 3          | 3          | 2          | 9          | 1          | 1          | 2          | \n",
       "| 4366777    | N          | 8          | 4          | -0.1267286 | 3          | 3          | 2          | 9          | 1          | 1          | 1          | \n",
       "| 7840051    | N          | 8          | 4          | -0.1267286 | 3          | 3          | 2          | 9          | 1          | 1          | 1          | \n",
       "| 6421723    | N          | 8          | 4          | -0.1267286 | 4          | 3          | 2          | 9          | 1          | 1          | 1          | \n",
       "|  406430    | N          | 8          | 4          | -0.1267286 | 3          | 3          | 2          | 9          | 1          | 1          | 1          | \n",
       "| 5468976    | N          | 8          | 4          | -0.1267286 | 3          | 3          | 2          | 9          | 1          | 1          | 1          | \n",
       "\n",
       "\n"
      ],
      "text/plain": [
       "  innovation_challenge_key renewed_yorn top_vertical_market_name\n",
       "1 6019776                  N            8                       \n",
       "2 4366777                  N            8                       \n",
       "3 7840051                  N            8                       \n",
       "4 6421723                  N            8                       \n",
       "5  406430                  N            8                       \n",
       "6 5468976                  N            8                       \n",
       "  four_quarter_bookings_band service_fee_amount software_usage_type\n",
       "1 4                          -0.1267286         3                  \n",
       "2 4                          -0.1267286         3                  \n",
       "3 4                          -0.1267286         3                  \n",
       "4 4                          -0.1267286         4                  \n",
       "5 4                          -0.1267286         3                  \n",
       "6 4                          -0.1267286         3                  \n",
       "  product_type service_sales_node_base_sub_scms_name product_sales_channel_code\n",
       "1 3            2                                     9                         \n",
       "2 3            2                                     9                         \n",
       "3 3            2                                     9                         \n",
       "4 3            2                                     9                         \n",
       "5 3            2                                     9                         \n",
       "6 3            2                                     9                         \n",
       "  contract_line_multi_year_discount_yorn service_contract_classification\n",
       "1 1                                      1                              \n",
       "2 1                                      1                              \n",
       "3 1                                      1                              \n",
       "4 1                                      1                              \n",
       "5 1                                      1                              \n",
       "6 1                                      1                              \n",
       "  installed_product_type\n",
       "1 2                     \n",
       "2 1                     \n",
       "3 1                     \n",
       "4 1                     \n",
       "5 1                     \n",
       "6 1                     "
      ]
     },
     "metadata": {},
     "output_type": "display_data"
    }
   ],
   "source": [
    "head(test_set)"
   ]
  },
  {
   "cell_type": "markdown",
   "metadata": {},
   "source": [
    "# Build model\n",
    "\n",
    "1. Accuracy"
   ]
  },
  {
   "cell_type": "code",
   "execution_count": 306,
   "metadata": {},
   "outputs": [
    {
     "data": {
      "text/plain": [
       "Random Forest \n",
       "\n",
       "8045 samples\n",
       "  11 predictor\n",
       "   2 classes: 'N', 'Y' \n",
       "\n",
       "No pre-processing\n",
       "Resampling: Cross-Validated (5 fold) \n",
       "Summary of sample sizes: 6437, 6437, 6436, 6435, 6435 \n",
       "Resampling results across tuning parameters:\n",
       "\n",
       "  mtry  Accuracy   Kappa    \n",
       "   2    0.8090748  0.5817433\n",
       "   6    0.8495969  0.6879909\n",
       "  11    0.8500937  0.6897689\n",
       "\n",
       "Accuracy was used to select the optimal model using the largest value.\n",
       "The final value used for the model was mtry = 11."
      ]
     },
     "metadata": {},
     "output_type": "display_data"
    }
   ],
   "source": [
    "# Build model\n",
    "\n",
    "## metric--> Accuracy\n",
    "\n",
    "trainControl <- trainControl(method=\"cv\", number=5)\n",
    "\n",
    "classification <- train(renewed_yorn~.,training_set,method=\"rf\", trControl=trainControl,metric=\"Accuracy\",ntree=500)\n",
    "\n",
    "classification"
   ]
  },
  {
   "cell_type": "code",
   "execution_count": 307,
   "metadata": {},
   "outputs": [
    {
     "name": "stdout",
     "output_type": "stream",
     "text": [
      "\n",
      "Call:\n",
      " randomForest(x = x, y = y, ntree = 500, mtry = param$mtry) \n",
      "               Type of random forest: classification\n",
      "                     Number of trees: 500\n",
      "No. of variables tried at each split: 11\n",
      "\n",
      "        OOB estimate of  error rate: 12.21%\n",
      "Confusion matrix:\n",
      "     N    Y class.error\n",
      "N 2842  310  0.09835025\n",
      "Y  672 4221  0.13733906\n"
     ]
    }
   ],
   "source": [
    "print(classification$finalModel)"
   ]
  },
  {
   "cell_type": "markdown",
   "metadata": {},
   "source": [
    "# log loss"
   ]
  },
  {
   "cell_type": "code",
   "execution_count": 308,
   "metadata": {},
   "outputs": [
    {
     "data": {
      "text/plain": [
       "Random Forest \n",
       "\n",
       "8045 samples\n",
       "  11 predictor\n",
       "   2 classes: 'N', 'Y' \n",
       "\n",
       "No pre-processing\n",
       "Resampling: Cross-Validated (5 fold) \n",
       "Summary of sample sizes: 6437, 6436, 6435, 6435, 6437 \n",
       "Resampling results across tuning parameters:\n",
       "\n",
       "  mtry  logLoss  \n",
       "   2    0.4128476\n",
       "   6    0.3648730\n",
       "  11    0.3870789\n",
       "\n",
       "logLoss was used to select the optimal model using the smallest value.\n",
       "The final value used for the model was mtry = 6."
      ]
     },
     "metadata": {},
     "output_type": "display_data"
    }
   ],
   "source": [
    "set.seed(123)\n",
    "## metric--> logLoss\n",
    "trainControl <- trainControl(method=\"cv\", number=5,classProbs=TRUE, summaryFunction=mnLogLoss)\n",
    "classification <- train(renewed_yorn~.,training_set,method=\"rf\", metric=\"logLoss\",trControl=trainControl,ntree=500)\n",
    "\n",
    "classification\n"
   ]
  },
  {
   "cell_type": "code",
   "execution_count": 309,
   "metadata": {},
   "outputs": [
    {
     "name": "stdout",
     "output_type": "stream",
     "text": [
      "\n",
      "Call:\n",
      " randomForest(x = x, y = y, ntree = 500, mtry = param$mtry) \n",
      "               Type of random forest: classification\n",
      "                     Number of trees: 500\n",
      "No. of variables tried at each split: 6\n",
      "\n",
      "        OOB estimate of  error rate: 13.26%\n",
      "Confusion matrix:\n",
      "     N    Y class.error\n",
      "N 2767  385   0.1221447\n",
      "Y  682 4211   0.1393828\n"
     ]
    }
   ],
   "source": [
    "print(classification$finalModel)"
   ]
  },
  {
   "cell_type": "markdown",
   "metadata": {},
   "source": [
    "# rpart tree plot"
   ]
  },
  {
   "cell_type": "code",
   "execution_count": 310,
   "metadata": {},
   "outputs": [
    {
     "name": "stdout",
     "output_type": "stream",
     "text": [
      "n= 10726 \n",
      "\n",
      "node), split, n, loss, yval, (yprob)\n",
      "      * denotes terminal node\n",
      "\n",
      " 1) root 10726 4202 Y (0.39175834 0.60824166)  \n",
      "   2) product_type< 3.5 1590  682 N (0.57106918 0.42893082)  \n",
      "     4) top_vertical_market_name>=7.5 1063  293 N (0.72436500 0.27563500) *\n",
      "     5) top_vertical_market_name< 7.5 527  138 Y (0.26185958 0.73814042) *\n",
      "   3) product_type>=3.5 9136 3294 Y (0.36055166 0.63944834)  \n",
      "     6) contract_line_multi_year_discount_yorn>=1.5 1075  521 N (0.51534884 0.48465116)  \n",
      "      12) top_vertical_market_name< 6.5 496  140 N (0.71774194 0.28225806) *\n",
      "      13) top_vertical_market_name>=6.5 579  198 Y (0.34196891 0.65803109) *\n",
      "     7) contract_line_multi_year_discount_yorn< 1.5 8061 2740 Y (0.33990820 0.66009180)  \n",
      "      14) top_vertical_market_name>=9.5 2412 1018 Y (0.42205638 0.57794362)  \n",
      "        28) four_quarter_bookings_band>=7.5 94    4 N (0.95744681 0.04255319) *\n",
      "        29) four_quarter_bookings_band< 7.5 2318  928 Y (0.40034513 0.59965487) *\n",
      "      15) top_vertical_market_name< 9.5 5649 1722 Y (0.30483271 0.69516729) *\n"
     ]
    }
   ],
   "source": [
    "###********************************** rpart tree plot  *****************************************\n",
    "set.seed(123)\n",
    "\n",
    "classifierRpart <- rpart(renewed_yorn~.,data = dataset,method='class')\n",
    "\n",
    "print(classifierRpart)\n",
    "\n",
    "#y_pred_Rpart <- predict(classifierRpart,training_set[-2])\n",
    "\n",
    "\n"
   ]
  },
  {
   "cell_type": "code",
   "execution_count": 311,
   "metadata": {},
   "outputs": [
    {
     "name": "stdout",
     "output_type": "stream",
     "text": [
      "\n",
      "Classification tree:\n",
      "rpart(formula = renewed_yorn ~ ., data = dataset, method = \"class\")\n",
      "\n",
      "Variables actually used in tree construction:\n",
      "[1] contract_line_multi_year_discount_yorn\n",
      "[2] four_quarter_bookings_band            \n",
      "[3] product_type                          \n",
      "[4] top_vertical_market_name              \n",
      "\n",
      "Root node error: 4202/10726 = 0.39176\n",
      "\n",
      "n= 10726 \n",
      "\n",
      "        CP nsplit rel error  xerror     xstd\n",
      "1 0.056759      0   1.00000 1.00000 0.012031\n",
      "2 0.025702      2   0.88648 0.88648 0.011735\n",
      "3 0.010233      4   0.83508 0.84055 0.011583\n",
      "4 0.010000      6   0.81461 0.83103 0.011549\n"
     ]
    }
   ],
   "source": [
    "printcp(classifierRpart) # display the results "
   ]
  },
  {
   "cell_type": "code",
   "execution_count": 316,
   "metadata": {},
   "outputs": [
    {
     "data": {
      "image/png": "[encoded data removed]",
      "text/plain": [
       "plot without title"
      ]
     },
     "metadata": {},
     "output_type": "display_data"
    }
   ],
   "source": [
    "#dev.copy(png,'Tree.png')\n",
    "plotcp(classifierRpart) # visualize cross-validation results\n",
    "#dev.off()"
   ]
  },
  {
   "cell_type": "code",
   "execution_count": 317,
   "metadata": {},
   "outputs": [
    {
     "name": "stdout",
     "output_type": "stream",
     "text": [
      "Call:\n",
      "rpart(formula = renewed_yorn ~ ., data = dataset, method = \"class\")\n",
      "  n= 10726 \n",
      "\n",
      "          CP nsplit rel error    xerror       xstd\n",
      "1 0.05675869      0 1.0000000 1.0000000 0.01203123\n",
      "2 0.02570205      2 0.8864826 0.8864826 0.01173460\n",
      "3 0.01023322      4 0.8350785 0.8405521 0.01158299\n",
      "4 0.01000000      6 0.8146121 0.8310328 0.01154919\n",
      "\n",
      "Variable importance\n",
      "              top_vertical_market_name                           product_type \n",
      "                                    49                                     22 \n",
      "            four_quarter_bookings_band contract_line_multi_year_discount_yorn \n",
      "                                    13                                     11 \n",
      "       service_contract_classification                     service_fee_amount \n",
      "                                     2                                      1 \n",
      "            product_sales_channel_code               innovation_challenge_key \n",
      "                                     1                                      1 \n",
      "\n",
      "Node number 1: 10726 observations,    complexity param=0.05675869\n",
      "  predicted class=Y  expected loss=0.3917583  P(node) =1\n",
      "    class counts:  4202  6524\n",
      "   probabilities: 0.392 0.608 \n",
      "  left son=2 (1590 obs) right son=3 (9136 obs)\n",
      "  Primary splits:\n",
      "      product_type                           < 3.5          to the left,  improve=120.03890, (0 missing)\n",
      "      software_usage_type                    < 1.5          to the right, improve= 55.20695, (0 missing)\n",
      "      top_vertical_market_name               < 9.5          to the right, improve= 54.05665, (0 missing)\n",
      "      four_quarter_bookings_band             < 3.5          to the right, improve= 52.38672, (0 missing)\n",
      "      contract_line_multi_year_discount_yorn < 1.5          to the right, improve= 47.25757, (0 missing)\n",
      "  Surrogate splits:\n",
      "      service_fee_amount       < 26.72448     to the right, agree=0.852, adj=0.004, (0 split)\n",
      "      innovation_challenge_key < 7896156      to the right, agree=0.852, adj=0.001, (0 split)\n",
      "\n",
      "Node number 2: 1590 observations,    complexity param=0.05675869\n",
      "  predicted class=N  expected loss=0.4289308  P(node) =0.1482379\n",
      "    class counts:   908   682\n",
      "   probabilities: 0.571 0.429 \n",
      "  left son=4 (1063 obs) right son=5 (527 obs)\n",
      "  Primary splits:\n",
      "      top_vertical_market_name   < 7.5          to the right, improve=150.73370, (0 missing)\n",
      "      software_usage_type        < 2            to the right, improve= 32.28323, (0 missing)\n",
      "      product_type               < 2.5          to the right, improve= 32.27236, (0 missing)\n",
      "      four_quarter_bookings_band < 5.5          to the left,  improve= 17.91293, (0 missing)\n",
      "      product_sales_channel_code < 6.5          to the right, improve= 16.47057, (0 missing)\n",
      "  Surrogate splits:\n",
      "      service_contract_classification        < 1.5          to the left,  agree=0.690, adj=0.065, (0 split)\n",
      "      four_quarter_bookings_band             < 8.5          to the left,  agree=0.682, adj=0.042, (0 split)\n",
      "      service_fee_amount                     < -0.007012401 to the left,  agree=0.680, adj=0.034, (0 split)\n",
      "      innovation_challenge_key               < 23259.5      to the right, agree=0.675, adj=0.021, (0 split)\n",
      "      contract_line_multi_year_discount_yorn < 1.5          to the left,  agree=0.675, adj=0.021, (0 split)\n",
      "\n",
      "Node number 3: 9136 observations,    complexity param=0.02570205\n",
      "  predicted class=Y  expected loss=0.3605517  P(node) =0.8517621\n",
      "    class counts:  3294  5842\n",
      "   probabilities: 0.361 0.639 \n",
      "  left son=6 (1075 obs) right son=7 (8061 obs)\n",
      "  Primary splits:\n",
      "      contract_line_multi_year_discount_yorn < 1.5          to the right, improve=58.38909, (0 missing)\n",
      "      top_vertical_market_name               < 9.5          to the right, improve=28.51587, (0 missing)\n",
      "      product_type                           < 17.5         to the left,  improve=26.35605, (0 missing)\n",
      "      service_contract_classification        < 2.5          to the left,  improve=24.12043, (0 missing)\n",
      "      four_quarter_bookings_band             < 3.5          to the right, improve=22.24265, (0 missing)\n",
      "\n",
      "Node number 4: 1063 observations\n",
      "  predicted class=N  expected loss=0.275635  P(node) =0.09910498\n",
      "    class counts:   770   293\n",
      "   probabilities: 0.724 0.276 \n",
      "\n",
      "Node number 5: 527 observations\n",
      "  predicted class=Y  expected loss=0.2618596  P(node) =0.04913295\n",
      "    class counts:   138   389\n",
      "   probabilities: 0.262 0.738 \n",
      "\n",
      "Node number 6: 1075 observations,    complexity param=0.02570205\n",
      "  predicted class=N  expected loss=0.4846512  P(node) =0.1002238\n",
      "    class counts:   554   521\n",
      "   probabilities: 0.515 0.485 \n",
      "  left son=12 (496 obs) right son=13 (579 obs)\n",
      "  Primary splits:\n",
      "      top_vertical_market_name        < 6.5          to the left,  improve=75.44544, (0 missing)\n",
      "      four_quarter_bookings_band      < 3.5          to the right, improve=46.86118, (0 missing)\n",
      "      service_contract_classification < 1.5          to the left,  improve=25.33514, (0 missing)\n",
      "      product_sales_channel_code      < 5.5          to the left,  improve=22.96460, (0 missing)\n",
      "      installed_product_type          < 1.5          to the right, improve= 8.06705, (0 missing)\n",
      "  Surrogate splits:\n",
      "      four_quarter_bookings_band            < 3.5          to the right, agree=0.591, adj=0.113, (0 split)\n",
      "      product_sales_channel_code            < 2.5          to the right, agree=0.567, adj=0.062, (0 split)\n",
      "      service_contract_classification       < 2.5          to the right, agree=0.553, adj=0.030, (0 split)\n",
      "      service_sales_node_base_sub_scms_name < 1.5          to the right, agree=0.551, adj=0.026, (0 split)\n",
      "      service_fee_amount                    < 2.200715     to the right, agree=0.545, adj=0.014, (0 split)\n",
      "\n",
      "Node number 7: 8061 observations,    complexity param=0.01023322\n",
      "  predicted class=Y  expected loss=0.3399082  P(node) =0.7515383\n",
      "    class counts:  2740  5321\n",
      "   probabilities: 0.340 0.660 \n",
      "  left son=14 (2412 obs) right son=15 (5649 obs)\n",
      "  Primary splits:\n",
      "      top_vertical_market_name        < 9.5          to the right, improve=46.45373, (0 missing)\n",
      "      product_type                    < 17.5         to the left,  improve=26.93637, (0 missing)\n",
      "      four_quarter_bookings_band      < 5.5          to the right, improve=21.73374, (0 missing)\n",
      "      service_contract_classification < 2.5          to the left,  improve=15.65229, (0 missing)\n",
      "      service_fee_amount              < -0.1260598   to the right, improve=14.33684, (0 missing)\n",
      "  Surrogate splits:\n",
      "      innovation_challenge_key < 7860287      to the right, agree=0.701, adj=0.001, (0 split)\n",
      "\n",
      "Node number 12: 496 observations\n",
      "  predicted class=N  expected loss=0.2822581  P(node) =0.04624277\n",
      "    class counts:   356   140\n",
      "   probabilities: 0.718 0.282 \n",
      "\n",
      "Node number 13: 579 observations\n",
      "  predicted class=Y  expected loss=0.3419689  P(node) =0.05398098\n",
      "    class counts:   198   381\n",
      "   probabilities: 0.342 0.658 \n",
      "\n",
      "Node number 14: 2412 observations,    complexity param=0.01023322\n",
      "  predicted class=Y  expected loss=0.4220564  P(node) =0.2248741\n",
      "    class counts:  1018  1394\n",
      "   probabilities: 0.422 0.578 \n",
      "  left son=28 (94 obs) right son=29 (2318 obs)\n",
      "  Primary splits:\n",
      "      four_quarter_bookings_band            < 7.5          to the right, improve=56.07418, (0 missing)\n",
      "      product_type                          < 17.5         to the left,  improve=42.14669, (0 missing)\n",
      "      service_sales_node_base_sub_scms_name < 1.5          to the left,  improve=33.35442, (0 missing)\n",
      "      service_contract_classification       < 3            to the left,  improve=21.54658, (0 missing)\n",
      "      product_sales_channel_code            < 1.5          to the right, improve=11.26311, (0 missing)\n",
      "\n",
      "Node number 15: 5649 observations\n",
      "  predicted class=Y  expected loss=0.3048327  P(node) =0.5266642\n",
      "    class counts:  1722  3927\n",
      "   probabilities: 0.305 0.695 \n",
      "\n",
      "Node number 28: 94 observations\n",
      "  predicted class=N  expected loss=0.04255319  P(node) =0.008763752\n",
      "    class counts:    90     4\n",
      "   probabilities: 0.957 0.043 \n",
      "\n",
      "Node number 29: 2318 observations\n",
      "  predicted class=Y  expected loss=0.4003451  P(node) =0.2161104\n",
      "    class counts:   928  1390\n",
      "   probabilities: 0.400 0.600 \n",
      "\n"
     ]
    }
   ],
   "source": [
    "summary(classifierRpart) # detailed summary of splits"
   ]
  },
  {
   "cell_type": "markdown",
   "metadata": {},
   "source": [
    "# Plot Tree"
   ]
  },
  {
   "cell_type": "code",
   "execution_count": 319,
   "metadata": {},
   "outputs": [
    {
     "data": {
      "image/png": "[encoded data removed]",
      "text/plain": [
       "Plot with title \"Classification Tree\""
      ]
     },
     "metadata": {},
     "output_type": "display_data"
    }
   ],
   "source": [
    "# plot tree \n",
    "#dev.copy(png,'ClassificationTree.png')\n",
    "plot(classifierRpart, uniform=TRUE, \n",
    "     main=\"Classification Tree\")\n",
    "text(classifierRpart, use.n=TRUE, all=TRUE, cex=1)\n",
    "#dev.off()"
   ]
  },
  {
   "cell_type": "markdown",
   "metadata": {},
   "source": [
    "# Final Model\n",
    "\n",
    "\n"
   ]
  },
  {
   "cell_type": "code",
   "execution_count": 162,
   "metadata": {},
   "outputs": [
    {
     "name": "stdout",
     "output_type": "stream",
     "text": [
      "Random Forest \n",
      "\n",
      "8045 samples\n",
      "  11 predictor\n",
      "   2 classes: 'N', 'Y' \n",
      "\n",
      "No pre-processing\n",
      "Resampling: Cross-Validated (5 fold) \n",
      "Summary of sample sizes: 6437, 6436, 6435, 6435, 6437 \n",
      "Resampling results across tuning parameters:\n",
      "\n",
      "  mtry  Accuracy   Kappa    \n",
      "   2    0.8052194  0.5732757\n",
      "   6    0.8539440  0.6965635\n",
      "  11    0.8534454  0.6960767\n",
      "\n",
      "Accuracy was used to select the optimal model using the largest value.\n",
      "The final value used for the model was mtry = 6.\n"
     ]
    }
   ],
   "source": [
    "# Final Model\n",
    "\n",
    "#trainControl <- trainControl(method=\"cv\", number=5) # 5\n",
    "set.seed(123)\n",
    "\n",
    "trainControl <- trainControl(method=\"cv\", number=5,savePredictions=TRUE, classProbs=TRUE)\n",
    "\n",
    "FinalClassifier <- train(renewed_yorn~.,training_set,method=\"rf\", trControl=trainControl, metric=\"Accuracy\",ntree=500)\n",
    "\n",
    "print(FinalClassifier)\n"
   ]
  },
  {
   "cell_type": "code",
   "execution_count": 187,
   "metadata": {},
   "outputs": [],
   "source": [
    "# Save model to disk\n",
    "\n",
    "#saveRDS(FinalClassifier,\"FinalClassifierModelsmallds.rds\")"
   ]
  },
  {
   "cell_type": "code",
   "execution_count": 252,
   "metadata": {},
   "outputs": [
    {
     "data": {
      "text/html": [
       "<strong>png:</strong> 5"
      ],
      "text/latex": [
       "\\textbf{png:} 5"
      ],
      "text/markdown": [
       "**png:** 5"
      ],
      "text/plain": [
       "png \n",
       "  5 "
      ]
     },
     "metadata": {},
     "output_type": "display_data"
    },
    {
     "data": {},
     "metadata": {},
     "output_type": "display_data"
    },
    {
     "data": {
      "text/html": [
       "<strong>png:</strong> 2"
      ],
      "text/latex": [
       "\\textbf{png:} 2"
      ],
      "text/markdown": [
       "**png:** 2"
      ],
      "text/plain": [
       "png \n",
       "  2 "
      ]
     },
     "metadata": {},
     "output_type": "display_data"
    }
   ],
   "source": [
    "dev.copy(png,'PredictorAccuracy.jpg')\n",
    "plot(FinalClassifier)\n",
    "dev.off()"
   ]
  },
  {
   "cell_type": "code",
   "execution_count": 164,
   "metadata": {},
   "outputs": [
    {
     "name": "stdout",
     "output_type": "stream",
     "text": [
      "\n",
      "Call:\n",
      " randomForest(x = x, y = y, ntree = 500, mtry = param$mtry) \n",
      "               Type of random forest: classification\n",
      "                     Number of trees: 500\n",
      "No. of variables tried at each split: 6\n",
      "\n",
      "        OOB estimate of  error rate: 13.26%\n",
      "Confusion matrix:\n",
      "     N    Y class.error\n",
      "N 2767  385   0.1221447\n",
      "Y  682 4211   0.1393828\n"
     ]
    }
   ],
   "source": [
    "print(FinalClassifier$finalModel)"
   ]
  },
  {
   "cell_type": "markdown",
   "metadata": {},
   "source": [
    "# Prediction: on test dataset based on final model\n"
   ]
  },
  {
   "cell_type": "markdown",
   "metadata": {},
   "source": [
    "- Load model from disk"
   ]
  },
  {
   "cell_type": "code",
   "execution_count": 195,
   "metadata": {},
   "outputs": [],
   "source": [
    "# Load the model\n",
    "\n",
    "FinalClassifier <- readRDS(\"FinalClassifierModelsmallds.rds\")\n",
    "\n",
    "#FinalClassifier <- readRDS(\"FinalClassifierBigDS.rds\")\n",
    "\n"
   ]
  },
  {
   "cell_type": "code",
   "execution_count": 196,
   "metadata": {},
   "outputs": [
    {
     "data": {
      "text/plain": [
       "Confusion Matrix and Statistics\n",
       "\n",
       "          Reference\n",
       "Prediction    N    Y\n",
       "         N  916  218\n",
       "         Y  134 1413\n",
       "                                          \n",
       "               Accuracy : 0.8687          \n",
       "                 95% CI : (0.8553, 0.8813)\n",
       "    No Information Rate : 0.6084          \n",
       "    P-Value [Acc > NIR] : < 2.2e-16       \n",
       "                                          \n",
       "                  Kappa : 0.7283          \n",
       " Mcnemar's Test P-Value : 9.693e-06       \n",
       "                                          \n",
       "            Sensitivity : 0.8724          \n",
       "            Specificity : 0.8663          \n",
       "         Pos Pred Value : 0.8078          \n",
       "         Neg Pred Value : 0.9134          \n",
       "             Prevalence : 0.3916          \n",
       "         Detection Rate : 0.3417          \n",
       "   Detection Prevalence : 0.4230          \n",
       "      Balanced Accuracy : 0.8694          \n",
       "                                          \n",
       "       'Positive' Class : N               \n",
       "                                          "
      ]
     },
     "metadata": {},
     "output_type": "display_data"
    }
   ],
   "source": [
    "finalPredictions <- predict(FinalClassifier, test_set)\n",
    "confusionMatrix(finalPredictions, as.factor(test_set$renewed_yorn)) ## both should be factor\n",
    "\n",
    "\n"
   ]
  },
  {
   "cell_type": "markdown",
   "metadata": {},
   "source": [
    "## Prediction result output"
   ]
  },
  {
   "cell_type": "code",
   "execution_count": 197,
   "metadata": {},
   "outputs": [
    {
     "data": {
      "text/plain": [
       "\n",
       "  Correct Incorrect \n",
       "     2329       352 "
      ]
     },
     "metadata": {},
     "output_type": "display_data"
    }
   ],
   "source": [
    "## Prepare result output ***\n",
    "ResultSummary <- cbind(test_set,finalPredictions)\n",
    "\n",
    "ResultSummary$Prediction <- as.factor(ifelse(as.character(ResultSummary$renewed_yorn) == as.character(ResultSummary$finalPredictions), 'Correct','Incorrect'))\n",
    "\n",
    "write.table(ResultSummary, file = \"ResultSummaryTest_set.csv\", sep = ',',row.names = FALSE)\n",
    "\n",
    "table(ResultSummary$Prediction)"
   ]
  },
  {
   "cell_type": "markdown",
   "metadata": {},
   "source": [
    "# Test with New dataset"
   ]
  },
  {
   "cell_type": "code",
   "execution_count": 182,
   "metadata": {},
   "outputs": [],
   "source": [
    "#finalPredictions <- predict(FinalClassifier, dataset)\n",
    "#confusionMatrix(finalPredictions, as.factor(dataset$renewed_yorn)) ## both should be factor"
   ]
  },
  {
   "cell_type": "code",
   "execution_count": 183,
   "metadata": {},
   "outputs": [],
   "source": [
    "# New dataset \n",
    "\n",
    "#ResultSummaryNewDS <- cbind(dataset,finalPredictions)\n",
    "\n",
    "#ResultSummaryNewDS$Prediction <- as.factor(ifelse(as.character(ResultSummaryNewDS$renewed_yorn) == as.character(ResultSummaryNewDS$finalPredictions), 'Correct','Incorrect'))\n",
    "\n",
    "#write.table(ResultSummaryNewDS, file = \"ResultSummaryNewDS.csv\", sep = ',',row.names = FALSE)\n",
    "\n",
    "#table(ResultSummaryNewDS$Prediction)"
   ]
  },
  {
   "cell_type": "code",
   "execution_count": null,
   "metadata": {},
   "outputs": [],
   "source": []
  },
  {
   "cell_type": "code",
   "execution_count": null,
   "metadata": {},
   "outputs": [],
   "source": []
  }
 ],
 "metadata": {
  "kernelspec": {
   "display_name": "R",
   "language": "R",
   "name": "ir"
  },
  "language_info": {
   "codemirror_mode": "r",
   "file_extension": ".r",
   "mimetype": "text/x-r-source",
   "name": "R",
   "pygments_lexer": "r",
   "version": "3.4.3"
  }
 },
 "nbformat": 4,
 "nbformat_minor": 2
}
